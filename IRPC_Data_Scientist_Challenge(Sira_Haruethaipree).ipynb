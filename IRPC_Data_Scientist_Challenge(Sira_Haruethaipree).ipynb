{
  "nbformat": 4,
  "nbformat_minor": 0,
  "metadata": {
    "colab": {
      "name": "IRPC Data Scientist Challenge(Sira Haruethaipree).ipynb",
      "provenance": [],
      "collapsed_sections": [],
      "authorship_tag": "ABX9TyPG7JDzWFlYjPk6BZtlhxuu",
      "include_colab_link": true
    },
    "kernelspec": {
      "name": "python3",
      "display_name": "Python 3"
    },
    "language_info": {
      "name": "python"
    }
  },
  "cells": [
    {
      "cell_type": "markdown",
      "metadata": {
        "id": "view-in-github",
        "colab_type": "text"
      },
      "source": [
        "<a href=\"https://colab.research.google.com/github/sira4154/IRPC-Data-Scientist-Challenges/blob/main/IRPC_Data_Scientist_Challenge(Sira_Haruethaipree).ipynb\" target=\"_parent\"><img src=\"https://colab.research.google.com/assets/colab-badge.svg\" alt=\"Open In Colab\"/></a>"
      ]
    },
    {
      "cell_type": "markdown",
      "source": [
        "##Importing the libraries"
      ],
      "metadata": {
        "id": "7Fwe16mWaiJe"
      }
    },
    {
      "cell_type": "markdown",
      "source": [
        "เริ่มแรกเราจะ import libraries ที่จำเป็นในการจัดการกับข้อมูลก่อนทั้ง numpy และ pandas โดยเราตั้งตัวย่อให้เห็น np และ pd  "
      ],
      "metadata": {
        "id": "dVxkgmgiarF7"
      }
    },
    {
      "cell_type": "code",
      "execution_count": 1,
      "metadata": {
        "id": "IBFP39XMtSK9"
      },
      "outputs": [],
      "source": [
        "import numpy as np\n",
        "import pandas as pd"
      ]
    },
    {
      "cell_type": "markdown",
      "source": [
        "ทำการลิ้ง google colab เข้ากับ google drive ของเราเพื่อให้สามารถดึงไฟล์ข้อมูลได้"
      ],
      "metadata": {
        "id": "H8NpfAQYa70e"
      }
    },
    {
      "cell_type": "code",
      "source": [
        "from google.colab import drive\n",
        "drive.mount('/content/drive')"
      ],
      "metadata": {
        "colab": {
          "base_uri": "https://localhost:8080/",
          "height": 0
        },
        "id": "WzlzTygBuI-Q",
        "outputId": "736c75de-287b-4d9a-8803-3ef0cc4a00f7"
      },
      "execution_count": 2,
      "outputs": [
        {
          "output_type": "stream",
          "name": "stdout",
          "text": [
            "Mounted at /content/drive\n"
          ]
        }
      ]
    },
    {
      "cell_type": "markdown",
      "source": [
        "ใช้ฟังก์ชั่น read_csv เพื่อทำการเปิดไฟล์ public_transporation_data "
      ],
      "metadata": {
        "id": "cIpX8TKWbK3r"
      }
    },
    {
      "cell_type": "code",
      "source": [
        "dataset = pd.read_csv('/content/drive/MyDrive/public_transportation_data.csv',index_col= 0) #index_col = 0 for reject first index of dataset"
      ],
      "metadata": {
        "id": "86fBia4muUAb",
        "colab": {
          "base_uri": "https://localhost:8080/",
          "height": 0
        },
        "outputId": "edd548f7-89ac-472d-8461-7cc075412f73"
      },
      "execution_count": 3,
      "outputs": [
        {
          "output_type": "stream",
          "name": "stderr",
          "text": [
            "/usr/local/lib/python3.7/dist-packages/numpy/lib/arraysetops.py:580: FutureWarning: elementwise comparison failed; returning scalar instead, but in the future will perform elementwise comparison\n",
            "  mask |= (ar1 == a)\n"
          ]
        }
      ]
    },
    {
      "cell_type": "markdown",
      "source": [
        "หลังจากที่เรานำเข้าไฟล์มาเป็นที่เรียบร้อยเราจะมาดูว่า dataset ของเราเป็นยังไงตามด้านล่าง"
      ],
      "metadata": {
        "id": "IeMNwIdqbh67"
      }
    },
    {
      "cell_type": "code",
      "source": [
        "dataset.head()"
      ],
      "metadata": {
        "colab": {
          "base_uri": "https://localhost:8080/",
          "height": 206
        },
        "id": "Oytx1E1PkgR_",
        "outputId": "478de9f9-23fb-4141-892c-35d79d9132ae"
      },
      "execution_count": 4,
      "outputs": [
        {
          "output_type": "execute_result",
          "data": {
            "text/html": [
              "\n",
              "  <div id=\"df-a67f88e7-e62d-4a2f-ab5a-67a4b9153fdb\">\n",
              "    <div class=\"colab-df-container\">\n",
              "      <div>\n",
              "<style scoped>\n",
              "    .dataframe tbody tr th:only-of-type {\n",
              "        vertical-align: middle;\n",
              "    }\n",
              "\n",
              "    .dataframe tbody tr th {\n",
              "        vertical-align: top;\n",
              "    }\n",
              "\n",
              "    .dataframe thead th {\n",
              "        text-align: right;\n",
              "    }\n",
              "</style>\n",
              "<table border=\"1\" class=\"dataframe\">\n",
              "  <thead>\n",
              "    <tr style=\"text-align: right;\">\n",
              "      <th></th>\n",
              "      <th>insert_date</th>\n",
              "      <th>origin</th>\n",
              "      <th>destination</th>\n",
              "      <th>start_date</th>\n",
              "      <th>end_date</th>\n",
              "      <th>train_type</th>\n",
              "      <th>price</th>\n",
              "      <th>train_class</th>\n",
              "      <th>fare</th>\n",
              "    </tr>\n",
              "  </thead>\n",
              "  <tbody>\n",
              "    <tr>\n",
              "      <th>0</th>\n",
              "      <td>2019-04-19 05:31:43</td>\n",
              "      <td>MADRID</td>\n",
              "      <td>SEVILLA</td>\n",
              "      <td>2019-05-29 06:20:00</td>\n",
              "      <td>2019-05-29 09:16:00</td>\n",
              "      <td>AV City</td>\n",
              "      <td>38.55</td>\n",
              "      <td>Turista</td>\n",
              "      <td>Promo</td>\n",
              "    </tr>\n",
              "    <tr>\n",
              "      <th>1</th>\n",
              "      <td>2019-04-19 05:31:43</td>\n",
              "      <td>MADRID</td>\n",
              "      <td>SEVILLA</td>\n",
              "      <td>2019-05-29 07:00:00</td>\n",
              "      <td>2019-05-29 09:32:00</td>\n",
              "      <td>AVE</td>\n",
              "      <td>53.40</td>\n",
              "      <td>Turista</td>\n",
              "      <td>Promo</td>\n",
              "    </tr>\n",
              "    <tr>\n",
              "      <th>2</th>\n",
              "      <td>2019-04-19 05:31:43</td>\n",
              "      <td>MADRID</td>\n",
              "      <td>SEVILLA</td>\n",
              "      <td>2019-05-29 07:30:00</td>\n",
              "      <td>2019-05-29 09:51:00</td>\n",
              "      <td>AVE</td>\n",
              "      <td>47.30</td>\n",
              "      <td>Turista</td>\n",
              "      <td>Promo</td>\n",
              "    </tr>\n",
              "    <tr>\n",
              "      <th>3</th>\n",
              "      <td>2019-04-19 05:31:43</td>\n",
              "      <td>MADRID</td>\n",
              "      <td>SEVILLA</td>\n",
              "      <td>2019-05-29 08:00:00</td>\n",
              "      <td>2019-05-29 10:32:00</td>\n",
              "      <td>AVE</td>\n",
              "      <td>69.40</td>\n",
              "      <td>Preferente</td>\n",
              "      <td>Promo</td>\n",
              "    </tr>\n",
              "    <tr>\n",
              "      <th>4</th>\n",
              "      <td>2019-04-19 05:31:43</td>\n",
              "      <td>MADRID</td>\n",
              "      <td>SEVILLA</td>\n",
              "      <td>2019-05-29 08:30:00</td>\n",
              "      <td>2019-05-29 11:14:00</td>\n",
              "      <td>ALVIA</td>\n",
              "      <td>NaN</td>\n",
              "      <td>Turista</td>\n",
              "      <td>Promo</td>\n",
              "    </tr>\n",
              "  </tbody>\n",
              "</table>\n",
              "</div>\n",
              "      <button class=\"colab-df-convert\" onclick=\"convertToInteractive('df-a67f88e7-e62d-4a2f-ab5a-67a4b9153fdb')\"\n",
              "              title=\"Convert this dataframe to an interactive table.\"\n",
              "              style=\"display:none;\">\n",
              "        \n",
              "  <svg xmlns=\"http://www.w3.org/2000/svg\" height=\"24px\"viewBox=\"0 0 24 24\"\n",
              "       width=\"24px\">\n",
              "    <path d=\"M0 0h24v24H0V0z\" fill=\"none\"/>\n",
              "    <path d=\"M18.56 5.44l.94 2.06.94-2.06 2.06-.94-2.06-.94-.94-2.06-.94 2.06-2.06.94zm-11 1L8.5 8.5l.94-2.06 2.06-.94-2.06-.94L8.5 2.5l-.94 2.06-2.06.94zm10 10l.94 2.06.94-2.06 2.06-.94-2.06-.94-.94-2.06-.94 2.06-2.06.94z\"/><path d=\"M17.41 7.96l-1.37-1.37c-.4-.4-.92-.59-1.43-.59-.52 0-1.04.2-1.43.59L10.3 9.45l-7.72 7.72c-.78.78-.78 2.05 0 2.83L4 21.41c.39.39.9.59 1.41.59.51 0 1.02-.2 1.41-.59l7.78-7.78 2.81-2.81c.8-.78.8-2.07 0-2.86zM5.41 20L4 18.59l7.72-7.72 1.47 1.35L5.41 20z\"/>\n",
              "  </svg>\n",
              "      </button>\n",
              "      \n",
              "  <style>\n",
              "    .colab-df-container {\n",
              "      display:flex;\n",
              "      flex-wrap:wrap;\n",
              "      gap: 12px;\n",
              "    }\n",
              "\n",
              "    .colab-df-convert {\n",
              "      background-color: #E8F0FE;\n",
              "      border: none;\n",
              "      border-radius: 50%;\n",
              "      cursor: pointer;\n",
              "      display: none;\n",
              "      fill: #1967D2;\n",
              "      height: 32px;\n",
              "      padding: 0 0 0 0;\n",
              "      width: 32px;\n",
              "    }\n",
              "\n",
              "    .colab-df-convert:hover {\n",
              "      background-color: #E2EBFA;\n",
              "      box-shadow: 0px 1px 2px rgba(60, 64, 67, 0.3), 0px 1px 3px 1px rgba(60, 64, 67, 0.15);\n",
              "      fill: #174EA6;\n",
              "    }\n",
              "\n",
              "    [theme=dark] .colab-df-convert {\n",
              "      background-color: #3B4455;\n",
              "      fill: #D2E3FC;\n",
              "    }\n",
              "\n",
              "    [theme=dark] .colab-df-convert:hover {\n",
              "      background-color: #434B5C;\n",
              "      box-shadow: 0px 1px 3px 1px rgba(0, 0, 0, 0.15);\n",
              "      filter: drop-shadow(0px 1px 2px rgba(0, 0, 0, 0.3));\n",
              "      fill: #FFFFFF;\n",
              "    }\n",
              "  </style>\n",
              "\n",
              "      <script>\n",
              "        const buttonEl =\n",
              "          document.querySelector('#df-a67f88e7-e62d-4a2f-ab5a-67a4b9153fdb button.colab-df-convert');\n",
              "        buttonEl.style.display =\n",
              "          google.colab.kernel.accessAllowed ? 'block' : 'none';\n",
              "\n",
              "        async function convertToInteractive(key) {\n",
              "          const element = document.querySelector('#df-a67f88e7-e62d-4a2f-ab5a-67a4b9153fdb');\n",
              "          const dataTable =\n",
              "            await google.colab.kernel.invokeFunction('convertToInteractive',\n",
              "                                                     [key], {});\n",
              "          if (!dataTable) return;\n",
              "\n",
              "          const docLinkHtml = 'Like what you see? Visit the ' +\n",
              "            '<a target=\"_blank\" href=https://colab.research.google.com/notebooks/data_table.ipynb>data table notebook</a>'\n",
              "            + ' to learn more about interactive tables.';\n",
              "          element.innerHTML = '';\n",
              "          dataTable['output_type'] = 'display_data';\n",
              "          await google.colab.output.renderOutput(dataTable, element);\n",
              "          const docLink = document.createElement('div');\n",
              "          docLink.innerHTML = docLinkHtml;\n",
              "          element.appendChild(docLink);\n",
              "        }\n",
              "      </script>\n",
              "    </div>\n",
              "  </div>\n",
              "  "
            ],
            "text/plain": [
              "           insert_date  origin destination  ...  price train_class   fare\n",
              "0  2019-04-19 05:31:43  MADRID     SEVILLA  ...  38.55     Turista  Promo\n",
              "1  2019-04-19 05:31:43  MADRID     SEVILLA  ...  53.40     Turista  Promo\n",
              "2  2019-04-19 05:31:43  MADRID     SEVILLA  ...  47.30     Turista  Promo\n",
              "3  2019-04-19 05:31:43  MADRID     SEVILLA  ...  69.40  Preferente  Promo\n",
              "4  2019-04-19 05:31:43  MADRID     SEVILLA  ...    NaN     Turista  Promo\n",
              "\n",
              "[5 rows x 9 columns]"
            ]
          },
          "metadata": {},
          "execution_count": 4
        }
      ]
    },
    {
      "cell_type": "markdown",
      "source": [
        "  จะเห็นได้ว่าแถวที่ 5 คอลัมน์ price นั้นแสดงค่า NAN อยู่ซึ่งไม่สามาถนำมาคำนวณได้แล้วเราต้องทำการตัดออกจาก dataset ซึ่งในส่วนนี้จะอยู่ในขั้นตอน missing values"
      ],
      "metadata": {
        "id": "O7iVFoGkeNPO"
      }
    },
    {
      "cell_type": "markdown",
      "source": [
        "ต่อมาเราจะเช็คจำนวนของ dataset นี้"
      ],
      "metadata": {
        "id": "j-E1KUrfb4Bw"
      }
    },
    {
      "cell_type": "code",
      "source": [
        "dataset.shape"
      ],
      "metadata": {
        "colab": {
          "base_uri": "https://localhost:8080/",
          "height": 0
        },
        "id": "9rraXvLmukjJ",
        "outputId": "ebcc2546-5747-4ef2-a222-a94945a37bf2"
      },
      "execution_count": 5,
      "outputs": [
        {
          "output_type": "execute_result",
          "data": {
            "text/plain": [
              "(2579771, 9)"
            ]
          },
          "metadata": {},
          "execution_count": 5
        }
      ]
    },
    {
      "cell_type": "markdown",
      "source": [
        "ซึ่ง dataset จะประกอบด้วย 2579771 แถว และมีทั้งหมด 9 คอลัมน์"
      ],
      "metadata": {
        "id": "c-itm1_SjZjW"
      }
    },
    {
      "cell_type": "markdown",
      "source": [
        "## Data Preprocessing\n"
      ],
      "metadata": {
        "id": "B4YFt0OPjwHu"
      }
    },
    {
      "cell_type": "markdown",
      "source": [
        "###Check duplicate values "
      ],
      "metadata": {
        "id": "1qtwgU8Pu0TI"
      }
    },
    {
      "cell_type": "markdown",
      "source": [
        "ขั้นตอนแรกเราจะเช็คการซ้ำกันของข้อมูลก่อน ว่ามีซ้ำกันหรือไม่เพืาอไม่ให้ส่งผลต่อการทำโมเดล prediction "
      ],
      "metadata": {
        "id": "shK5_HZ6jqi7"
      }
    },
    {
      "cell_type": "code",
      "source": [
        "sum(dataset.duplicated())"
      ],
      "metadata": {
        "colab": {
          "base_uri": "https://localhost:8080/",
          "height": 0
        },
        "id": "5Rj31So3apBV",
        "outputId": "c95775ee-538f-4c8c-ab42-1d8d71c0b147"
      },
      "execution_count": 6,
      "outputs": [
        {
          "output_type": "execute_result",
          "data": {
            "text/plain": [
              "3516"
            ]
          },
          "metadata": {},
          "execution_count": 6
        }
      ]
    },
    {
      "cell_type": "markdown",
      "source": [
        "หลังจากที่เราใช้ .duplicated() เพื่อเช็คข้อมูลที่ซ้ำกัน จะพบว่ามีทั้งหมด 3516 แถวที่ซ้ำกัน"
      ],
      "metadata": {
        "id": "N3FRL-fukKZ8"
      }
    },
    {
      "cell_type": "markdown",
      "source": [
        "เราจะทำการเข็คว่า data ที่ซ้ำกันนั้นมีการซ้ำกันจริงไหมโดยแสดงออกมาในรูป dataframe "
      ],
      "metadata": {
        "id": "26xSFJk4lBUr"
      }
    },
    {
      "cell_type": "code",
      "source": [
        "columns = dataset.columns # columns = [\"insert_date\",\"origin\",\"destination\",\"start_date\",\"end_date\",\"train_type\",\"price\",\"train_class\",\"fare\"]"
      ],
      "metadata": {
        "id": "6I6wV8eOpci3"
      },
      "execution_count": 7,
      "outputs": []
    },
    {
      "cell_type": "code",
      "source": [
        "duplicates = dataset.duplicated(subset=columns,keep=False) #keep = False : select all row that duplicated.\n",
        "dataset[duplicates]"
      ],
      "metadata": {
        "colab": {
          "base_uri": "https://localhost:8080/",
          "height": 423
        },
        "id": "Oh5OgPLrlAGC",
        "outputId": "a047a1fb-0f70-4f7e-a243-7a2fdb7ab5cf"
      },
      "execution_count": 8,
      "outputs": [
        {
          "output_type": "execute_result",
          "data": {
            "text/html": [
              "\n",
              "  <div id=\"df-02a473a1-6231-468b-9982-229c47b3fd25\">\n",
              "    <div class=\"colab-df-container\">\n",
              "      <div>\n",
              "<style scoped>\n",
              "    .dataframe tbody tr th:only-of-type {\n",
              "        vertical-align: middle;\n",
              "    }\n",
              "\n",
              "    .dataframe tbody tr th {\n",
              "        vertical-align: top;\n",
              "    }\n",
              "\n",
              "    .dataframe thead th {\n",
              "        text-align: right;\n",
              "    }\n",
              "</style>\n",
              "<table border=\"1\" class=\"dataframe\">\n",
              "  <thead>\n",
              "    <tr style=\"text-align: right;\">\n",
              "      <th></th>\n",
              "      <th>insert_date</th>\n",
              "      <th>origin</th>\n",
              "      <th>destination</th>\n",
              "      <th>start_date</th>\n",
              "      <th>end_date</th>\n",
              "      <th>train_type</th>\n",
              "      <th>price</th>\n",
              "      <th>train_class</th>\n",
              "      <th>fare</th>\n",
              "    </tr>\n",
              "  </thead>\n",
              "  <tbody>\n",
              "    <tr>\n",
              "      <th>1095</th>\n",
              "      <td>2019-04-19 05:43:41</td>\n",
              "      <td>MADRID</td>\n",
              "      <td>VALENCIA</td>\n",
              "      <td>2019-05-31 15:10:00</td>\n",
              "      <td>2019-05-31 17:20:00</td>\n",
              "      <td>INTERCITY</td>\n",
              "      <td>38.80</td>\n",
              "      <td>Turista</td>\n",
              "      <td>Promo</td>\n",
              "    </tr>\n",
              "    <tr>\n",
              "      <th>1096</th>\n",
              "      <td>2019-04-19 05:43:41</td>\n",
              "      <td>MADRID</td>\n",
              "      <td>VALENCIA</td>\n",
              "      <td>2019-05-31 15:10:00</td>\n",
              "      <td>2019-05-31 17:20:00</td>\n",
              "      <td>INTERCITY</td>\n",
              "      <td>38.80</td>\n",
              "      <td>Turista</td>\n",
              "      <td>Promo</td>\n",
              "    </tr>\n",
              "    <tr>\n",
              "      <th>1562</th>\n",
              "      <td>2019-04-19 05:45:58</td>\n",
              "      <td>MADRID</td>\n",
              "      <td>VALENCIA</td>\n",
              "      <td>2019-05-10 15:10:00</td>\n",
              "      <td>2019-05-10 17:20:00</td>\n",
              "      <td>INTERCITY</td>\n",
              "      <td>43.75</td>\n",
              "      <td>Turista</td>\n",
              "      <td>Promo</td>\n",
              "    </tr>\n",
              "    <tr>\n",
              "      <th>1563</th>\n",
              "      <td>2019-04-19 05:45:58</td>\n",
              "      <td>MADRID</td>\n",
              "      <td>VALENCIA</td>\n",
              "      <td>2019-05-10 15:10:00</td>\n",
              "      <td>2019-05-10 17:20:00</td>\n",
              "      <td>INTERCITY</td>\n",
              "      <td>43.75</td>\n",
              "      <td>Turista</td>\n",
              "      <td>Promo</td>\n",
              "    </tr>\n",
              "    <tr>\n",
              "      <th>1753</th>\n",
              "      <td>2019-04-19 05:47:02</td>\n",
              "      <td>MADRID</td>\n",
              "      <td>VALENCIA</td>\n",
              "      <td>2019-04-30 15:10:00</td>\n",
              "      <td>2019-04-30 17:20:00</td>\n",
              "      <td>INTERCITY</td>\n",
              "      <td>55.40</td>\n",
              "      <td>Turista</td>\n",
              "      <td>Flexible</td>\n",
              "    </tr>\n",
              "    <tr>\n",
              "      <th>...</th>\n",
              "      <td>...</td>\n",
              "      <td>...</td>\n",
              "      <td>...</td>\n",
              "      <td>...</td>\n",
              "      <td>...</td>\n",
              "      <td>...</td>\n",
              "      <td>...</td>\n",
              "      <td>...</td>\n",
              "      <td>...</td>\n",
              "    </tr>\n",
              "    <tr>\n",
              "      <th>2579182</th>\n",
              "      <td>2019-04-19 05:25:51</td>\n",
              "      <td>VALENCIA</td>\n",
              "      <td>MADRID</td>\n",
              "      <td>2019-05-19 17:30:00</td>\n",
              "      <td>2019-05-19 19:43:00</td>\n",
              "      <td>INTERCITY</td>\n",
              "      <td>43.75</td>\n",
              "      <td>Turista</td>\n",
              "      <td>Promo</td>\n",
              "    </tr>\n",
              "    <tr>\n",
              "      <th>2579317</th>\n",
              "      <td>2019-04-19 05:26:38</td>\n",
              "      <td>VALENCIA</td>\n",
              "      <td>MADRID</td>\n",
              "      <td>2019-05-12 17:30:00</td>\n",
              "      <td>2019-05-12 19:43:00</td>\n",
              "      <td>INTERCITY</td>\n",
              "      <td>43.75</td>\n",
              "      <td>Turista</td>\n",
              "      <td>Promo</td>\n",
              "    </tr>\n",
              "    <tr>\n",
              "      <th>2579318</th>\n",
              "      <td>2019-04-19 05:26:38</td>\n",
              "      <td>VALENCIA</td>\n",
              "      <td>MADRID</td>\n",
              "      <td>2019-05-12 17:30:00</td>\n",
              "      <td>2019-05-12 19:43:00</td>\n",
              "      <td>INTERCITY</td>\n",
              "      <td>43.75</td>\n",
              "      <td>Turista</td>\n",
              "      <td>Promo</td>\n",
              "    </tr>\n",
              "    <tr>\n",
              "      <th>2579453</th>\n",
              "      <td>2019-04-19 05:27:26</td>\n",
              "      <td>VALENCIA</td>\n",
              "      <td>MADRID</td>\n",
              "      <td>2019-05-05 17:30:00</td>\n",
              "      <td>2019-05-05 19:43:00</td>\n",
              "      <td>INTERCITY</td>\n",
              "      <td>NaN</td>\n",
              "      <td>Turista</td>\n",
              "      <td>Flexible</td>\n",
              "    </tr>\n",
              "    <tr>\n",
              "      <th>2579454</th>\n",
              "      <td>2019-04-19 05:27:26</td>\n",
              "      <td>VALENCIA</td>\n",
              "      <td>MADRID</td>\n",
              "      <td>2019-05-05 17:30:00</td>\n",
              "      <td>2019-05-05 19:43:00</td>\n",
              "      <td>INTERCITY</td>\n",
              "      <td>NaN</td>\n",
              "      <td>Turista</td>\n",
              "      <td>Flexible</td>\n",
              "    </tr>\n",
              "  </tbody>\n",
              "</table>\n",
              "<p>7032 rows × 9 columns</p>\n",
              "</div>\n",
              "      <button class=\"colab-df-convert\" onclick=\"convertToInteractive('df-02a473a1-6231-468b-9982-229c47b3fd25')\"\n",
              "              title=\"Convert this dataframe to an interactive table.\"\n",
              "              style=\"display:none;\">\n",
              "        \n",
              "  <svg xmlns=\"http://www.w3.org/2000/svg\" height=\"24px\"viewBox=\"0 0 24 24\"\n",
              "       width=\"24px\">\n",
              "    <path d=\"M0 0h24v24H0V0z\" fill=\"none\"/>\n",
              "    <path d=\"M18.56 5.44l.94 2.06.94-2.06 2.06-.94-2.06-.94-.94-2.06-.94 2.06-2.06.94zm-11 1L8.5 8.5l.94-2.06 2.06-.94-2.06-.94L8.5 2.5l-.94 2.06-2.06.94zm10 10l.94 2.06.94-2.06 2.06-.94-2.06-.94-.94-2.06-.94 2.06-2.06.94z\"/><path d=\"M17.41 7.96l-1.37-1.37c-.4-.4-.92-.59-1.43-.59-.52 0-1.04.2-1.43.59L10.3 9.45l-7.72 7.72c-.78.78-.78 2.05 0 2.83L4 21.41c.39.39.9.59 1.41.59.51 0 1.02-.2 1.41-.59l7.78-7.78 2.81-2.81c.8-.78.8-2.07 0-2.86zM5.41 20L4 18.59l7.72-7.72 1.47 1.35L5.41 20z\"/>\n",
              "  </svg>\n",
              "      </button>\n",
              "      \n",
              "  <style>\n",
              "    .colab-df-container {\n",
              "      display:flex;\n",
              "      flex-wrap:wrap;\n",
              "      gap: 12px;\n",
              "    }\n",
              "\n",
              "    .colab-df-convert {\n",
              "      background-color: #E8F0FE;\n",
              "      border: none;\n",
              "      border-radius: 50%;\n",
              "      cursor: pointer;\n",
              "      display: none;\n",
              "      fill: #1967D2;\n",
              "      height: 32px;\n",
              "      padding: 0 0 0 0;\n",
              "      width: 32px;\n",
              "    }\n",
              "\n",
              "    .colab-df-convert:hover {\n",
              "      background-color: #E2EBFA;\n",
              "      box-shadow: 0px 1px 2px rgba(60, 64, 67, 0.3), 0px 1px 3px 1px rgba(60, 64, 67, 0.15);\n",
              "      fill: #174EA6;\n",
              "    }\n",
              "\n",
              "    [theme=dark] .colab-df-convert {\n",
              "      background-color: #3B4455;\n",
              "      fill: #D2E3FC;\n",
              "    }\n",
              "\n",
              "    [theme=dark] .colab-df-convert:hover {\n",
              "      background-color: #434B5C;\n",
              "      box-shadow: 0px 1px 3px 1px rgba(0, 0, 0, 0.15);\n",
              "      filter: drop-shadow(0px 1px 2px rgba(0, 0, 0, 0.3));\n",
              "      fill: #FFFFFF;\n",
              "    }\n",
              "  </style>\n",
              "\n",
              "      <script>\n",
              "        const buttonEl =\n",
              "          document.querySelector('#df-02a473a1-6231-468b-9982-229c47b3fd25 button.colab-df-convert');\n",
              "        buttonEl.style.display =\n",
              "          google.colab.kernel.accessAllowed ? 'block' : 'none';\n",
              "\n",
              "        async function convertToInteractive(key) {\n",
              "          const element = document.querySelector('#df-02a473a1-6231-468b-9982-229c47b3fd25');\n",
              "          const dataTable =\n",
              "            await google.colab.kernel.invokeFunction('convertToInteractive',\n",
              "                                                     [key], {});\n",
              "          if (!dataTable) return;\n",
              "\n",
              "          const docLinkHtml = 'Like what you see? Visit the ' +\n",
              "            '<a target=\"_blank\" href=https://colab.research.google.com/notebooks/data_table.ipynb>data table notebook</a>'\n",
              "            + ' to learn more about interactive tables.';\n",
              "          element.innerHTML = '';\n",
              "          dataTable['output_type'] = 'display_data';\n",
              "          await google.colab.output.renderOutput(dataTable, element);\n",
              "          const docLink = document.createElement('div');\n",
              "          docLink.innerHTML = docLinkHtml;\n",
              "          element.appendChild(docLink);\n",
              "        }\n",
              "      </script>\n",
              "    </div>\n",
              "  </div>\n",
              "  "
            ],
            "text/plain": [
              "                 insert_date    origin destination  ...  price train_class      fare\n",
              "1095     2019-04-19 05:43:41    MADRID    VALENCIA  ...  38.80     Turista     Promo\n",
              "1096     2019-04-19 05:43:41    MADRID    VALENCIA  ...  38.80     Turista     Promo\n",
              "1562     2019-04-19 05:45:58    MADRID    VALENCIA  ...  43.75     Turista     Promo\n",
              "1563     2019-04-19 05:45:58    MADRID    VALENCIA  ...  43.75     Turista     Promo\n",
              "1753     2019-04-19 05:47:02    MADRID    VALENCIA  ...  55.40     Turista  Flexible\n",
              "...                      ...       ...         ...  ...    ...         ...       ...\n",
              "2579182  2019-04-19 05:25:51  VALENCIA      MADRID  ...  43.75     Turista     Promo\n",
              "2579317  2019-04-19 05:26:38  VALENCIA      MADRID  ...  43.75     Turista     Promo\n",
              "2579318  2019-04-19 05:26:38  VALENCIA      MADRID  ...  43.75     Turista     Promo\n",
              "2579453  2019-04-19 05:27:26  VALENCIA      MADRID  ...    NaN     Turista  Flexible\n",
              "2579454  2019-04-19 05:27:26  VALENCIA      MADRID  ...    NaN     Turista  Flexible\n",
              "\n",
              "[7032 rows x 9 columns]"
            ]
          },
          "metadata": {},
          "execution_count": 8
        }
      ]
    },
    {
      "cell_type": "markdown",
      "source": [
        "จากตารางด้านบนถ้าดูคร่าวๆจะเห็นได้ว่ามีการซ้ำกันจริงของข้อมูล เพราะฉะนั้นเราจะใช้ฟังก์ชั่น drop เพื่อนำค่าที่ซ้ำกันออก"
      ],
      "metadata": {
        "id": "fX2TDZernxsf"
      }
    },
    {
      "cell_type": "code",
      "source": [
        "dataset.drop_duplicates(subset=columns,inplace=True)"
      ],
      "metadata": {
        "id": "bYpaRq6iuTEo"
      },
      "execution_count": 9,
      "outputs": []
    },
    {
      "cell_type": "markdown",
      "source": [
        "หลังจากที่เราทำการ drop หรือนำค่าที่ซ้ำกันออกแล้ว ก็ทำการเช็คการซ้ำกันของข้อมูลอีกครั้ง"
      ],
      "metadata": {
        "id": "8q-xVDKEoFYW"
      }
    },
    {
      "cell_type": "code",
      "source": [
        "sum(dataset.duplicated())"
      ],
      "metadata": {
        "colab": {
          "base_uri": "https://localhost:8080/",
          "height": 0
        },
        "id": "XvX11Va1uhjR",
        "outputId": "3c2c2d4c-e4fa-4499-d5dd-7203178c7df1"
      },
      "execution_count": 10,
      "outputs": [
        {
          "output_type": "execute_result",
          "data": {
            "text/plain": [
              "0"
            ]
          },
          "metadata": {},
          "execution_count": 10
        }
      ]
    },
    {
      "cell_type": "markdown",
      "source": [
        "เมื่อเช็คแล้วค่าที่ได้เป็น 0 แสดงว่าเราได้ทำการกำจัดค่าที่ซ้ำกันออกเรียบร้อย"
      ],
      "metadata": {
        "id": "SeXQkoNjoPDR"
      }
    },
    {
      "cell_type": "markdown",
      "source": [
        "##Check missing values"
      ],
      "metadata": {
        "id": "7DRpVbxLu9L6"
      }
    },
    {
      "cell_type": "markdown",
      "source": [
        "ในส่วนนี้เราจะกำจัด missing values ค่าที่ปรากฏว่า NAN ในDataframe เพื่อไม่ให้มีผลต่อการทำนาย หรือ การสร้างโมเดล predict"
      ],
      "metadata": {
        "id": "Zfaku0oroZFo"
      }
    },
    {
      "cell_type": "code",
      "source": [
        "dataset.isna().sum()"
      ],
      "metadata": {
        "colab": {
          "base_uri": "https://localhost:8080/",
          "height": 0
        },
        "id": "HKlBJ2GMiQ4Q",
        "outputId": "4b82b528-e50e-4e98-a556-ca2c38cafcae"
      },
      "execution_count": 11,
      "outputs": [
        {
          "output_type": "execute_result",
          "data": {
            "text/plain": [
              "insert_date         0\n",
              "origin              0\n",
              "destination         0\n",
              "start_date          0\n",
              "end_date            0\n",
              "train_type          0\n",
              "price          309751\n",
              "train_class      9664\n",
              "fare             9664\n",
              "dtype: int64"
            ]
          },
          "metadata": {},
          "execution_count": 11
        }
      ]
    },
    {
      "cell_type": "markdown",
      "source": [
        "จากด้านบนเราจะเห็นว่าจากการเช็คค่า missing value มีจำนวนทั้งหมด 309751 ค่าที่คอลัมน์ price และ คอลัมน์ train_class กับ fare ก็มี missing values 9664 จุด  "
      ],
      "metadata": {
        "id": "bSX8wKD_xgxH"
      }
    },
    {
      "cell_type": "markdown",
      "source": [
        "เราจะใช้ Library msno เพื่อทำการ visualize ค่า missing value "
      ],
      "metadata": {
        "id": "ax2Ec_iCyI_t"
      }
    },
    {
      "cell_type": "code",
      "source": [
        "import missingno as msno\n",
        "import matplotlib.pyplot as plt\n",
        "msno.matrix(dataset)\n",
        "plt.show()"
      ],
      "metadata": {
        "colab": {
          "base_uri": "https://localhost:8080/",
          "height": 625
        },
        "id": "5Z61pRDAi-uE",
        "outputId": "d313d6e7-c4de-47af-f706-45b07d4125eb"
      },
      "execution_count": 12,
      "outputs": [
        {
          "output_type": "display_data",
          "data": {
            "image/png": "[encoded data removed]",
            "text/plain": [
              "<Figure size 1800x720 with 2 Axes>"
            ]
          },
          "metadata": {
            "needs_background": "light"
          }
        }
      ]
    },
    {
      "cell_type": "markdown",
      "source": [
        "จากรูปด้านบนเส้นขีดขาวคือช่วงที่ปรากฏ missing values ซึ่งจะเห็นว่า ที่คอลัมน์ price จะมี missng values มากที่สุด"
      ],
      "metadata": {
        "id": "ncOERQzA0E97"
      }
    },
    {
      "cell_type": "markdown",
      "source": [
        "ลำดับถัดมาเราจะมาจัดการกับ missing value โดยใช้ dropna()"
      ],
      "metadata": {
        "id": "Z9cH0gnA0XZt"
      }
    },
    {
      "cell_type": "code",
      "source": [
        "dataset = dataset.dropna(subset=[\"price\",\"train_class\",\"fare\"]) #subset : column that need to detect missing value "
      ],
      "metadata": {
        "id": "iykuBc2vwt5-"
      },
      "execution_count": 13,
      "outputs": []
    },
    {
      "cell_type": "markdown",
      "source": [
        "หลังจากที่เราลบ missing value ออกแล้ว จะเหลือ แถวทั้งหมด 2266504 แถว จากก่อนหน้านี้มีทั้งหมด 2576255 ซึ่งจำนวนที่หายไป 309751 แถว"
      ],
      "metadata": {
        "id": "5Z_sVYKi08Y_"
      }
    },
    {
      "cell_type": "code",
      "source": [
        "2576255-2266504 #before_dropna - after_dropna"
      ],
      "metadata": {
        "colab": {
          "base_uri": "https://localhost:8080/",
          "height": 0
        },
        "id": "xGznkPzgx52J",
        "outputId": "65a57a82-1718-45f5-9e1c-9420e011638a"
      },
      "execution_count": 14,
      "outputs": [
        {
          "output_type": "execute_result",
          "data": {
            "text/plain": [
              "309751"
            ]
          },
          "metadata": {},
          "execution_count": 14
        }
      ]
    },
    {
      "cell_type": "markdown",
      "source": [
        "ทำการเช็ค missing value อีกรอบ "
      ],
      "metadata": {
        "id": "BZBI0KKY3-J-"
      }
    },
    {
      "cell_type": "code",
      "source": [
        "print(dataset.isna().sum())\n",
        "print(\"Remain\",dataset.shape )\n",
        "print(\"This method reduce the dataset:\" ,(100-(2266504*100)/2576255),\"%\")"
      ],
      "metadata": {
        "colab": {
          "base_uri": "https://localhost:8080/",
          "height": 0
        },
        "id": "4NEvTqK8w8zF",
        "outputId": "215e9f65-5946-43a7-a209-7643b28022c5"
      },
      "execution_count": 15,
      "outputs": [
        {
          "output_type": "stream",
          "name": "stdout",
          "text": [
            "insert_date    0\n",
            "origin         0\n",
            "destination    0\n",
            "start_date     0\n",
            "end_date       0\n",
            "train_type     0\n",
            "price          0\n",
            "train_class    0\n",
            "fare           0\n",
            "dtype: int64\n",
            "Remain (2266504, 9)\n",
            "This method reduce the dataset: 12.02330514642378 %\n"
          ]
        }
      ]
    },
    {
      "cell_type": "markdown",
      "source": [
        "ผลลัพธ์ออกมาคือ 0 นั้นคือไม่มีค่า missing value อยู่ใน dataset นี้แล้ว\n",
        "และจะเห็นว่า แถวที่ถูกตัดไป 309751 แถว คิดเป็น 12.02 เปอเซ็นต์ \n",
        "\n",
        "หมายเหตุ : missing value นอกจากการ drop แถวหรือตัดแถวออกนั้น ก็มีวิธีการแบบอื่นอย่างเช่นแทนที่ด้วยค่าเฉลี่ย หรือ แทนด้วยค่า median หรืออาจจะทำ regreesion เพื่อหาค่าเบื้องต้นก่อน แต่ในกรณีนี้จะเห็นได้ว่าข้อมูลนั้นมีขนาดใหญ่การตัดออกไปจึงไม่ค่อยส่งผลมาก และตัวแปร price เป็นค่าที่เราต้องการจะ predict ด้วยซึ่งถ้าเราแทนด้วย mean ก็อาจจะส่งผลต่อการ predict จึงตัดสินใจ drop แถวนั้นๆทิ้งไป"
      ],
      "metadata": {
        "id": "GDZDE6Wr4GxF"
      }
    },
    {
      "cell_type": "markdown",
      "source": [
        "##DateTime columns"
      ],
      "metadata": {
        "id": "z4mgMgyrzCGM"
      }
    },
    {
      "cell_type": "markdown",
      "source": [
        "ต่อมาเราจะมาจัดการกับคอลัมน์ date-time กันเพราะใน dataset นี้จะมี date-time ทั้งหมด 3 คอลัมน์ insert-date, start-date, end_date"
      ],
      "metadata": {
        "id": "I97QlX7q-R9d"
      }
    },
    {
      "cell_type": "markdown",
      "source": [
        "เราจะทำการเช็ค type ของ แต่ละคอลัมน์กันว่ามีส่วนไหนที่จะต้องปรับโดยใช้ info()"
      ],
      "metadata": {
        "id": "h-UlAtMQ-j4V"
      }
    },
    {
      "cell_type": "code",
      "source": [
        "dataset.info()"
      ],
      "metadata": {
        "colab": {
          "base_uri": "https://localhost:8080/",
          "height": 0
        },
        "id": "F5uPgczzwPZy",
        "outputId": "d2483435-f433-4fa0-b467-f7793036a5ef"
      },
      "execution_count": 16,
      "outputs": [
        {
          "output_type": "stream",
          "name": "stdout",
          "text": [
            "<class 'pandas.core.frame.DataFrame'>\n",
            "Int64Index: 2266504 entries, 0 to 2579770\n",
            "Data columns (total 9 columns):\n",
            " #   Column       Dtype  \n",
            "---  ------       -----  \n",
            " 0   insert_date  object \n",
            " 1   origin       object \n",
            " 2   destination  object \n",
            " 3   start_date   object \n",
            " 4   end_date     object \n",
            " 5   train_type   object \n",
            " 6   price        float64\n",
            " 7   train_class  object \n",
            " 8   fare         object \n",
            "dtypes: float64(1), object(8)\n",
            "memory usage: 172.9+ MB\n"
          ]
        }
      ]
    },
    {
      "cell_type": "markdown",
      "source": [
        "จะเห็นว่าคอลัมน์ insert-date, start-date, end_date ยังเป็น ob่ject อยู่เพราะฉะนั้นจะต้องแปลงเป็นในรูปแบบของ date-time format ก่อนโดยใช้ฟังก์ชั่น to_datetime()"
      ],
      "metadata": {
        "id": "4m9wDB9v-9pn"
      }
    },
    {
      "cell_type": "code",
      "source": [
        "dataset[\"insert_date\"] = pd.to_datetime(dataset[\"insert_date\"])\n",
        "dataset[\"start_date\"] = pd.to_datetime(dataset[\"start_date\"])\n",
        "dataset[\"end_date\"] = pd.to_datetime(dataset[\"end_date\"])"
      ],
      "metadata": {
        "id": "I6zEeIzfykHr"
      },
      "execution_count": 17,
      "outputs": []
    },
    {
      "cell_type": "markdown",
      "source": [
        "หลังจากที่ทำการแปลง date-time เสร็จแล้วเราจะใช้ info() เพื่อเช็ค type อีกที"
      ],
      "metadata": {
        "id": "-uTOUwWC_Wku"
      }
    },
    {
      "cell_type": "code",
      "source": [
        "dataset.info()"
      ],
      "metadata": {
        "colab": {
          "base_uri": "https://localhost:8080/",
          "height": 0
        },
        "id": "T6znMRYkfgRJ",
        "outputId": "afa0a85d-c6a7-408a-88fb-b112378a92e3"
      },
      "execution_count": 18,
      "outputs": [
        {
          "output_type": "stream",
          "name": "stdout",
          "text": [
            "<class 'pandas.core.frame.DataFrame'>\n",
            "Int64Index: 2266504 entries, 0 to 2579770\n",
            "Data columns (total 9 columns):\n",
            " #   Column       Dtype         \n",
            "---  ------       -----         \n",
            " 0   insert_date  datetime64[ns]\n",
            " 1   origin       object        \n",
            " 2   destination  object        \n",
            " 3   start_date   datetime64[ns]\n",
            " 4   end_date     datetime64[ns]\n",
            " 5   train_type   object        \n",
            " 6   price        float64       \n",
            " 7   train_class  object        \n",
            " 8   fare         object        \n",
            "dtypes: datetime64[ns](3), float64(1), object(5)\n",
            "memory usage: 172.9+ MB\n"
          ]
        }
      ]
    },
    {
      "cell_type": "markdown",
      "source": [
        "ต่อจากนั้นเราจะสังเกตว่าจะมีคอลัมน์ start-date และ end-date ซึ่งมองว่าคอลัมน์นี้สามารถบอกระยะเวลาที่รถไฟออกจนกระทั่งถึงจุดหมายนั้น และอาจจะมีผลต่อการนำไปใช้ในการ predict เพื่อให้โมเดลแม่นยำขึ้นได้ จึงทำการสร้างคอลัมน์ใหม่ total_time คือเวลาเดินทางของรถไฟเป็นหน่วยนาทีออกมา "
      ],
      "metadata": {
        "id": "NJsQOZjY_hcL"
      }
    },
    {
      "cell_type": "code",
      "source": [
        "dataset[\"total_time(Min)\"] = ((dataset[\"end_date\"] - dataset[\"start_date\"]).dt.seconds)/60 # create new column totaltime = (enddate - startdate)/60 (min)\n",
        "dataset[\"total_time(Min)\"] = dataset[\"total_time(Min)\"].astype(int) #change type from float to int"
      ],
      "metadata": {
        "id": "XMw0xzk0ghdt"
      },
      "execution_count": 19,
      "outputs": []
    },
    {
      "cell_type": "code",
      "source": [
        "dataset.info()"
      ],
      "metadata": {
        "colab": {
          "base_uri": "https://localhost:8080/",
          "height": 0
        },
        "id": "v1indDE6fOr2",
        "outputId": "30690a58-fe0f-427e-a818-493fcf1ed8cf"
      },
      "execution_count": 20,
      "outputs": [
        {
          "output_type": "stream",
          "name": "stdout",
          "text": [
            "<class 'pandas.core.frame.DataFrame'>\n",
            "Int64Index: 2266504 entries, 0 to 2579770\n",
            "Data columns (total 10 columns):\n",
            " #   Column           Dtype         \n",
            "---  ------           -----         \n",
            " 0   insert_date      datetime64[ns]\n",
            " 1   origin           object        \n",
            " 2   destination      object        \n",
            " 3   start_date       datetime64[ns]\n",
            " 4   end_date         datetime64[ns]\n",
            " 5   train_type       object        \n",
            " 6   price            float64       \n",
            " 7   train_class      object        \n",
            " 8   fare             object        \n",
            " 9   total_time(Min)  int64         \n",
            "dtypes: datetime64[ns](3), float64(1), int64(1), object(5)\n",
            "memory usage: 190.2+ MB\n"
          ]
        }
      ]
    },
    {
      "cell_type": "markdown",
      "source": [
        "หลังจากที่เราได้ทำการเพิ่มคอลัมน์ไปจะได้ dataframes ดังรูปด้านล่าง"
      ],
      "metadata": {
        "id": "3Lcz31J1EQZT"
      }
    },
    {
      "cell_type": "code",
      "source": [
        "dataset.head()"
      ],
      "metadata": {
        "colab": {
          "base_uri": "https://localhost:8080/",
          "height": 206
        },
        "id": "9qDR4U-Gg7dj",
        "outputId": "39ea738b-b94d-4f05-9882-4605bf2079b2"
      },
      "execution_count": 21,
      "outputs": [
        {
          "output_type": "execute_result",
          "data": {
            "text/html": [
              "\n",
              "  <div id=\"df-888bf337-bc16-4a20-b56e-91ae5289730e\">\n",
              "    <div class=\"colab-df-container\">\n",
              "      <div>\n",
              "<style scoped>\n",
              "    .dataframe tbody tr th:only-of-type {\n",
              "        vertical-align: middle;\n",
              "    }\n",
              "\n",
              "    .dataframe tbody tr th {\n",
              "        vertical-align: top;\n",
              "    }\n",
              "\n",
              "    .dataframe thead th {\n",
              "        text-align: right;\n",
              "    }\n",
              "</style>\n",
              "<table border=\"1\" class=\"dataframe\">\n",
              "  <thead>\n",
              "    <tr style=\"text-align: right;\">\n",
              "      <th></th>\n",
              "      <th>insert_date</th>\n",
              "      <th>origin</th>\n",
              "      <th>destination</th>\n",
              "      <th>start_date</th>\n",
              "      <th>end_date</th>\n",
              "      <th>train_type</th>\n",
              "      <th>price</th>\n",
              "      <th>train_class</th>\n",
              "      <th>fare</th>\n",
              "      <th>total_time(Min)</th>\n",
              "    </tr>\n",
              "  </thead>\n",
              "  <tbody>\n",
              "    <tr>\n",
              "      <th>0</th>\n",
              "      <td>2019-04-19 05:31:43</td>\n",
              "      <td>MADRID</td>\n",
              "      <td>SEVILLA</td>\n",
              "      <td>2019-05-29 06:20:00</td>\n",
              "      <td>2019-05-29 09:16:00</td>\n",
              "      <td>AV City</td>\n",
              "      <td>38.55</td>\n",
              "      <td>Turista</td>\n",
              "      <td>Promo</td>\n",
              "      <td>176</td>\n",
              "    </tr>\n",
              "    <tr>\n",
              "      <th>1</th>\n",
              "      <td>2019-04-19 05:31:43</td>\n",
              "      <td>MADRID</td>\n",
              "      <td>SEVILLA</td>\n",
              "      <td>2019-05-29 07:00:00</td>\n",
              "      <td>2019-05-29 09:32:00</td>\n",
              "      <td>AVE</td>\n",
              "      <td>53.40</td>\n",
              "      <td>Turista</td>\n",
              "      <td>Promo</td>\n",
              "      <td>152</td>\n",
              "    </tr>\n",
              "    <tr>\n",
              "      <th>2</th>\n",
              "      <td>2019-04-19 05:31:43</td>\n",
              "      <td>MADRID</td>\n",
              "      <td>SEVILLA</td>\n",
              "      <td>2019-05-29 07:30:00</td>\n",
              "      <td>2019-05-29 09:51:00</td>\n",
              "      <td>AVE</td>\n",
              "      <td>47.30</td>\n",
              "      <td>Turista</td>\n",
              "      <td>Promo</td>\n",
              "      <td>141</td>\n",
              "    </tr>\n",
              "    <tr>\n",
              "      <th>3</th>\n",
              "      <td>2019-04-19 05:31:43</td>\n",
              "      <td>MADRID</td>\n",
              "      <td>SEVILLA</td>\n",
              "      <td>2019-05-29 08:00:00</td>\n",
              "      <td>2019-05-29 10:32:00</td>\n",
              "      <td>AVE</td>\n",
              "      <td>69.40</td>\n",
              "      <td>Preferente</td>\n",
              "      <td>Promo</td>\n",
              "      <td>152</td>\n",
              "    </tr>\n",
              "    <tr>\n",
              "      <th>5</th>\n",
              "      <td>2019-04-19 05:31:43</td>\n",
              "      <td>MADRID</td>\n",
              "      <td>SEVILLA</td>\n",
              "      <td>2019-05-29 09:00:00</td>\n",
              "      <td>2019-05-29 11:38:00</td>\n",
              "      <td>AVE</td>\n",
              "      <td>60.30</td>\n",
              "      <td>Turista</td>\n",
              "      <td>Promo</td>\n",
              "      <td>158</td>\n",
              "    </tr>\n",
              "  </tbody>\n",
              "</table>\n",
              "</div>\n",
              "      <button class=\"colab-df-convert\" onclick=\"convertToInteractive('df-888bf337-bc16-4a20-b56e-91ae5289730e')\"\n",
              "              title=\"Convert this dataframe to an interactive table.\"\n",
              "              style=\"display:none;\">\n",
              "        \n",
              "  <svg xmlns=\"http://www.w3.org/2000/svg\" height=\"24px\"viewBox=\"0 0 24 24\"\n",
              "       width=\"24px\">\n",
              "    <path d=\"M0 0h24v24H0V0z\" fill=\"none\"/>\n",
              "    <path d=\"M18.56 5.44l.94 2.06.94-2.06 2.06-.94-2.06-.94-.94-2.06-.94 2.06-2.06.94zm-11 1L8.5 8.5l.94-2.06 2.06-.94-2.06-.94L8.5 2.5l-.94 2.06-2.06.94zm10 10l.94 2.06.94-2.06 2.06-.94-2.06-.94-.94-2.06-.94 2.06-2.06.94z\"/><path d=\"M17.41 7.96l-1.37-1.37c-.4-.4-.92-.59-1.43-.59-.52 0-1.04.2-1.43.59L10.3 9.45l-7.72 7.72c-.78.78-.78 2.05 0 2.83L4 21.41c.39.39.9.59 1.41.59.51 0 1.02-.2 1.41-.59l7.78-7.78 2.81-2.81c.8-.78.8-2.07 0-2.86zM5.41 20L4 18.59l7.72-7.72 1.47 1.35L5.41 20z\"/>\n",
              "  </svg>\n",
              "      </button>\n",
              "      \n",
              "  <style>\n",
              "    .colab-df-container {\n",
              "      display:flex;\n",
              "      flex-wrap:wrap;\n",
              "      gap: 12px;\n",
              "    }\n",
              "\n",
              "    .colab-df-convert {\n",
              "      background-color: #E8F0FE;\n",
              "      border: none;\n",
              "      border-radius: 50%;\n",
              "      cursor: pointer;\n",
              "      display: none;\n",
              "      fill: #1967D2;\n",
              "      height: 32px;\n",
              "      padding: 0 0 0 0;\n",
              "      width: 32px;\n",
              "    }\n",
              "\n",
              "    .colab-df-convert:hover {\n",
              "      background-color: #E2EBFA;\n",
              "      box-shadow: 0px 1px 2px rgba(60, 64, 67, 0.3), 0px 1px 3px 1px rgba(60, 64, 67, 0.15);\n",
              "      fill: #174EA6;\n",
              "    }\n",
              "\n",
              "    [theme=dark] .colab-df-convert {\n",
              "      background-color: #3B4455;\n",
              "      fill: #D2E3FC;\n",
              "    }\n",
              "\n",
              "    [theme=dark] .colab-df-convert:hover {\n",
              "      background-color: #434B5C;\n",
              "      box-shadow: 0px 1px 3px 1px rgba(0, 0, 0, 0.15);\n",
              "      filter: drop-shadow(0px 1px 2px rgba(0, 0, 0, 0.3));\n",
              "      fill: #FFFFFF;\n",
              "    }\n",
              "  </style>\n",
              "\n",
              "      <script>\n",
              "        const buttonEl =\n",
              "          document.querySelector('#df-888bf337-bc16-4a20-b56e-91ae5289730e button.colab-df-convert');\n",
              "        buttonEl.style.display =\n",
              "          google.colab.kernel.accessAllowed ? 'block' : 'none';\n",
              "\n",
              "        async function convertToInteractive(key) {\n",
              "          const element = document.querySelector('#df-888bf337-bc16-4a20-b56e-91ae5289730e');\n",
              "          const dataTable =\n",
              "            await google.colab.kernel.invokeFunction('convertToInteractive',\n",
              "                                                     [key], {});\n",
              "          if (!dataTable) return;\n",
              "\n",
              "          const docLinkHtml = 'Like what you see? Visit the ' +\n",
              "            '<a target=\"_blank\" href=https://colab.research.google.com/notebooks/data_table.ipynb>data table notebook</a>'\n",
              "            + ' to learn more about interactive tables.';\n",
              "          element.innerHTML = '';\n",
              "          dataTable['output_type'] = 'display_data';\n",
              "          await google.colab.output.renderOutput(dataTable, element);\n",
              "          const docLink = document.createElement('div');\n",
              "          docLink.innerHTML = docLinkHtml;\n",
              "          element.appendChild(docLink);\n",
              "        }\n",
              "      </script>\n",
              "    </div>\n",
              "  </div>\n",
              "  "
            ],
            "text/plain": [
              "          insert_date  origin destination  ... train_class   fare total_time(Min)\n",
              "0 2019-04-19 05:31:43  MADRID     SEVILLA  ...     Turista  Promo             176\n",
              "1 2019-04-19 05:31:43  MADRID     SEVILLA  ...     Turista  Promo             152\n",
              "2 2019-04-19 05:31:43  MADRID     SEVILLA  ...     Turista  Promo             141\n",
              "3 2019-04-19 05:31:43  MADRID     SEVILLA  ...  Preferente  Promo             152\n",
              "5 2019-04-19 05:31:43  MADRID     SEVILLA  ...     Turista  Promo             158\n",
              "\n",
              "[5 rows x 10 columns]"
            ]
          },
          "metadata": {},
          "execution_count": 21
        }
      ]
    },
    {
      "cell_type": "markdown",
      "source": [
        "##EDA"
      ],
      "metadata": {
        "id": "Byoj_929jiPY"
      }
    },
    {
      "cell_type": "markdown",
      "source": [
        "นี้ส่วนนี้เราจะมาทำการ insights ของ dataset ชุดนี้ โดยเริ่มที่คอลัมน์ price ที่เราอยากจะ predict ก่อน"
      ],
      "metadata": {
        "id": "h8DDOgUYGkT2"
      }
    },
    {
      "cell_type": "markdown",
      "source": [
        "เราจะใช้ .describe() เพื่อดู Descriptive statistics คร่าวของ คอลัมน์ price ที่เราจะ predict ในขั้นต่อไป "
      ],
      "metadata": {
        "id": "5LaKl1wOElFa"
      }
    },
    {
      "cell_type": "code",
      "source": [
        "dataset[\"price\"].describe().apply(lambda x: format(x, 'f'))"
      ],
      "metadata": {
        "colab": {
          "base_uri": "https://localhost:8080/",
          "height": 0
        },
        "id": "Jillh_dfrziw",
        "outputId": "334b66dd-a954-4261-903e-6f55d3806950"
      },
      "execution_count": 22,
      "outputs": [
        {
          "output_type": "execute_result",
          "data": {
            "text/plain": [
              "count    2266504.000000\n",
              "mean          63.404359\n",
              "std           25.790848\n",
              "min           15.450000\n",
              "25%           43.750000\n",
              "50%           60.300000\n",
              "75%           78.800000\n",
              "max          214.200000\n",
              "Name: price, dtype: object"
            ]
          },
          "metadata": {},
          "execution_count": 22
        }
      ]
    },
    {
      "cell_type": "markdown",
      "source": [
        "ซึ่งจากตารางด้านบนก็สามารถบอกได้ว่าราคาค่าเฉลี่ยของตั๋วรถไฟของข้อมูลชุดนี้อยู่ที่ 63.40 เหรียญ และ ตั๋วที่ราคาถูกที่สุดอยู่ที่ 15.45 เหรียญ และตั๋วที่ราคาแพงที่สุดอยู่ที่ 214.20 เหรียญ โดยมีค่า median อยู่ที่ 60.3 เหรียญ"
      ],
      "metadata": {
        "id": "RtpJ8cyIfHqc"
      }
    },
    {
      "cell_type": "code",
      "source": [
        "import seaborn as sns\n",
        "sns.histplot(data=dataset[\"price\"],bins = 30)"
      ],
      "metadata": {
        "colab": {
          "base_uri": "https://localhost:8080/",
          "height": 296
        },
        "id": "VIaIkXlwrEgV",
        "outputId": "5ada7051-f00e-4cec-f2c2-75da8a19ce87"
      },
      "execution_count": 23,
      "outputs": [
        {
          "output_type": "execute_result",
          "data": {
            "text/plain": [
              "<matplotlib.axes._subplots.AxesSubplot at 0x7fc67f89d2d0>"
            ]
          },
          "metadata": {},
          "execution_count": 23
        },
        {
          "output_type": "display_data",
          "data": {
            "image/png": "[encoded data removed]",
            "text/plain": [
              "<Figure size 432x288 with 1 Axes>"
            ]
          },
          "metadata": {
            "needs_background": "light"
          }
        }
      ]
    },
    {
      "cell_type": "markdown",
      "source": [
        "กราฟด้านบนก็คือความถี่ของช่วงราคาตั๋วรถไฟ ที่ใช้ library seaborn ในการช่วยพลอตกราฟ"
      ],
      "metadata": {
        "id": "4bN6PQj-gBUD"
      }
    },
    {
      "cell_type": "markdown",
      "source": [
        "ต่อมาเราจะมาดู insights ของ train_type เมื่อเทียบกับ ราคา และเวลาในการเดินรถ"
      ],
      "metadata": {
        "id": "-8a2JYEkgcUP"
      }
    },
    {
      "cell_type": "code",
      "source": [
        "plt.figure(figsize=(8,6))\n",
        "ax =sns.scatterplot(x=\"total_time(Min)\", y=\"price\",hue=\"train_type\",data=dataset)\n",
        "sns.move_legend(ax, \"lower center\",bbox_to_anchor=(.5, 1),ncol=3,title=None,frameon=False,)\n",
        "plt.xlabel(\"price\")\n",
        "plt.ylabel(\"total_time(min)\")"
      ],
      "metadata": {
        "colab": {
          "base_uri": "https://localhost:8080/",
          "height": 488
        },
        "id": "Uaq8_MophEDv",
        "outputId": "51d2190a-463f-478e-d5f4-fb6f6c97f572"
      },
      "execution_count": 24,
      "outputs": [
        {
          "output_type": "execute_result",
          "data": {
            "text/plain": [
              "Text(0, 0.5, 'total_time(min)')"
            ]
          },
          "metadata": {},
          "execution_count": 24
        },
        {
          "output_type": "display_data",
          "data": {
            "image/png": "[encoded data removed]",
            "text/plain": [
              "<Figure size 576x432 with 1 Axes>"
            ]
          },
          "metadata": {
            "needs_background": "light"
          }
        }
      ]
    },
    {
      "cell_type": "markdown",
      "source": [
        "กราฟด้านบนเราจะกำหนดแกน y ให้เป็น price และ แกน x เป็น ระยะเวลา โดยที่จุดสีคือ train_type อย่างแรกเราจะเห็นได้ว่าระยะทางกับราคานั้นไม่ได้แปรผันตามกัน \n",
        "จุดสังเกต\n",
        "\n",
        "1. train_type ประเภท AVE จุดสีส้มจะมีช่วงราคาที่ค่อนข้างกว้างตั้งแต่ประมาณ 25 จนถึง 200 เหรียญซึ่งมีราคามากที่สุด และรถไฟ AVE จะมีระยะการเดินรถไม่เกิน 200 นาที ซึ่งอาจจะเป็นรถไฟจำพวกความเร็วสูง \n",
        "\n",
        "2. train_type ประเภท REGIONAL จุดสีฟ้า จะมีราคาที่ไม่ต่างกันจะอยู่ในช่วงราคา 25 เหรียญ\n",
        "\n",
        "3. train_type ประเภท LD และ LD-MD จะมีระยะการเดินรถมากกว่า 200 นาที หรือ 3 ชม 20 นาที \n",
        "\n"
      ],
      "metadata": {
        "id": "JeUQgUI8HYO2"
      }
    },
    {
      "cell_type": "markdown",
      "source": [
        "ต่อมาเราจะทำการเทียบ total-time กับ price โดยที่แต่ละจุดบ่งบอกถึง train_class "
      ],
      "metadata": {
        "id": "USP0D4a0pj32"
      }
    },
    {
      "cell_type": "code",
      "source": [
        "sns.scatterplot(x=\"total_time(Min)\", y=\"price\",hue=\"train_class\",data=dataset)"
      ],
      "metadata": {
        "colab": {
          "base_uri": "https://localhost:8080/",
          "height": 298
        },
        "id": "cla5dOGthGcv",
        "outputId": "86fb5363-4274-41c3-cef7-5611962f2b37"
      },
      "execution_count": 25,
      "outputs": [
        {
          "output_type": "execute_result",
          "data": {
            "text/plain": [
              "<matplotlib.axes._subplots.AxesSubplot at 0x7fc67f7b3790>"
            ]
          },
          "metadata": {},
          "execution_count": 25
        },
        {
          "output_type": "display_data",
          "data": {
            "image/png": "[encoded data removed]",
            "text/plain": [
              "<Figure size 432x288 with 1 Axes>"
            ]
          },
          "metadata": {
            "needs_background": "light"
          }
        }
      ]
    },
    {
      "cell_type": "markdown",
      "source": [
        "ข้อสังเกต \n",
        "\n",
        "1. train class แบบ Prefernte จะมีช่วงเวลาการเดินรถต่ำในช่วง 100 ถึง 200 นาที แต่ก็มีช่วงราคาที่กว้างตั้งแต่สูงสุดมากกว่า 200 เหรียญ และต่ำสุดถึงประมาณ 25 เหรียญ\n",
        "\n",
        "2. train class ประเภท turista กับ train_type ประเภท REGIONAL มีความเกี่ยวข้องกันสังเกตได้จากจุดสีน้ำเงินช่วง 350 ถึง 450 นาที แสดงว่ารถไฟประเภท REGIONAL จะเป้น class แบบ turista ทั้งหมด\n",
        "\n",
        "3. เราสามารถบอกได้ว่า train_class ประเภท Preferente อาจจะเป็นรถไฟประเภทชั้น 1 และ Turista เป็นรถไฟประเภทชั้น 2 จากช่วงราคาของ turista ที่ต่ำกว่า preferente"
      ],
      "metadata": {
        "id": "yS778MZyp2-1"
      }
    },
    {
      "cell_type": "markdown",
      "source": [
        "ต่อมาเราจะทำการเทียบ total-time กับ price โดยที่แต่ละจุดบ่งบอกถึง fare"
      ],
      "metadata": {
        "id": "PD3qXDuws0hJ"
      }
    },
    {
      "cell_type": "code",
      "source": [
        "sns.scatterplot(x=\"total_time(Min)\", y=\"price\",hue=\"fare\",data=dataset)"
      ],
      "metadata": {
        "colab": {
          "base_uri": "https://localhost:8080/",
          "height": 298
        },
        "id": "Zkmsgp28jp6y",
        "outputId": "c36c5713-752b-4edc-b162-9295423db326"
      },
      "execution_count": 26,
      "outputs": [
        {
          "output_type": "execute_result",
          "data": {
            "text/plain": [
              "<matplotlib.axes._subplots.AxesSubplot at 0x7fc67f73fc50>"
            ]
          },
          "metadata": {},
          "execution_count": 26
        },
        {
          "output_type": "display_data",
          "data": {
            "image/png": "[encoded data removed]",
            "text/plain": [
              "<Figure size 432x288 with 1 Axes>"
            ]
          },
          "metadata": {
            "needs_background": "light"
          }
        }
      ]
    },
    {
      "cell_type": "markdown",
      "source": [
        "ข้อสังเกต \n",
        "1. ประเภทค่าโดยสารแบบ Adulto ida ส่วนใหญ่จะมาจาก train_type ประเภท REGIONAL\n",
        "2. ประเภทค่าโดยสารแบบ Promo+ จะขายอยู่ในช่วงระยะเวลาการเดินรถ ตั้งแต่ 200 ถึง 450  "
      ],
      "metadata": {
        "id": "F6NJnbcCtqlt"
      }
    },
    {
      "cell_type": "markdown",
      "source": [
        "ต่อจากนั้นเราจะมาทำการพลอต boxplot เพื่อดูการกระจายตัวของข้อมูล"
      ],
      "metadata": {
        "id": "a7JsK6MIwjyB"
      }
    },
    {
      "cell_type": "markdown",
      "source": [
        "อย่างแรกเราจะดู train_type ของแต่ประเภทเมื่อเทียบกับ price"
      ],
      "metadata": {
        "id": "RdyQEp2VwvMh"
      }
    },
    {
      "cell_type": "code",
      "source": [
        "plt.figure(figsize=(15,5))\n",
        "sns.boxplot(x = \"train_type\", y = \"price\", data = dataset, )\n",
        "plt.show()"
      ],
      "metadata": {
        "colab": {
          "base_uri": "https://localhost:8080/",
          "height": 335
        },
        "id": "FgiBeJjNvnSL",
        "outputId": "d7bc06d6-1d4e-439c-d8e1-a3448be85fd9"
      },
      "execution_count": 27,
      "outputs": [
        {
          "output_type": "display_data",
          "data": {
            "image/png": "[encoded data removed]",
            "text/plain": [
              "<Figure size 1080x360 with 1 Axes>"
            ]
          },
          "metadata": {
            "needs_background": "light"
          }
        }
      ]
    },
    {
      "cell_type": "markdown",
      "source": [
        "จะเห็นว่า AVE นั้นจะมีช่วงของราคากว้างสุดตามที่กล่าวไป และ REGIONAL จะมี ราคาที่เฉลี่ยต่ำที่สุดในบรรดา train type ทั้งหมด และมีเพียงราคาเดียว  "
      ],
      "metadata": {
        "id": "KfelyNfMw7Gw"
      }
    },
    {
      "cell_type": "markdown",
      "source": [
        "ต่อมาดู train_class ของแต่ประเภทเมื่อเทียบกับ price"
      ],
      "metadata": {
        "id": "-PvE6QWaxfs4"
      }
    },
    {
      "cell_type": "code",
      "source": [
        "plt.figure(figsize=(15,5))\n",
        "sns.boxplot(x = \"train_class\", y = \"price\", data = dataset, )\n",
        "plt.show()"
      ],
      "metadata": {
        "colab": {
          "base_uri": "https://localhost:8080/",
          "height": 335
        },
        "id": "KCR4G0U7xYrL",
        "outputId": "c8c63093-45bd-4d2a-c540-2f8de73bb443"
      },
      "execution_count": 28,
      "outputs": [
        {
          "output_type": "display_data",
          "data": {
            "image/png": "[encoded data removed]",
            "text/plain": [
              "<Figure size 1080x360 with 1 Axes>"
            ]
          },
          "metadata": {
            "needs_background": "light"
          }
        }
      ]
    },
    {
      "cell_type": "markdown",
      "source": [
        "จะเห็นว่าค่าราคามากสุดจะอยู่ใน train class ประเภท Preferente และราคาต่ำที่สุดจะอยู่ใน Turista Plus แต่ train classs ประเภท Turista con enlace จะมีค่า ทำ medain ของราคาที่ต่ำกว่าตัวอื่นๆ ซึ่งถ้าจากการสังเกต train class ที่เป็น Turista อาจจะเป็นรถไฟประเภท ชั้น1 และ Prefernte จะเป็นรถไฟประเภทชั้น 2"
      ],
      "metadata": {
        "id": "gq3omoELxeW1"
      }
    },
    {
      "cell_type": "markdown",
      "source": [
        "ต่อมาดู fare ของแต่ประเภทเมื่อเทียบกับ price"
      ],
      "metadata": {
        "id": "d2Up-5rjzDk_"
      }
    },
    {
      "cell_type": "code",
      "source": [
        "plt.figure(figsize=(15,5))\n",
        "sns.boxplot(x = \"fare\", y = \"price\", data = dataset)\n",
        "plt.show()"
      ],
      "metadata": {
        "colab": {
          "base_uri": "https://localhost:8080/",
          "height": 334
        },
        "id": "u14HcAHtxkE4",
        "outputId": "22cabb03-235e-4076-b3bc-e15e71021adc"
      },
      "execution_count": 29,
      "outputs": [
        {
          "output_type": "display_data",
          "data": {
            "image/png": "[encoded data removed]",
            "text/plain": [
              "<Figure size 1080x360 with 1 Axes>"
            ]
          },
          "metadata": {
            "needs_background": "light"
          }
        }
      ]
    },
    {
      "cell_type": "markdown",
      "source": [
        "ตั๋วโดยสารประเภท Adulto ida จะมีค่าเฉลี่ยราคาถูกที่สุด และตั๋วแบบ Mesa จะมีช่วงของราคาที่แพงกว่าตัวอื่นๆ "
      ],
      "metadata": {
        "id": "v88v7JmozfKf"
      }
    },
    {
      "cell_type": "markdown",
      "source": [
        "ต่อมาเราจะใช้คำสั่ง groupby เพื่อที่จะสร้างตารางผลสรุปค่าเฉลี่ย จากการนำเอาข้อมูลทั้ง train_type, train_class และ fare มาทำการ group กัน "
      ],
      "metadata": {
        "id": "DUJMirjM0D3b"
      }
    },
    {
      "cell_type": "code",
      "source": [
        "dataset_mean = dataset[[\"train_type\",\"train_class\",\"fare\",\"price\"]]\n",
        "check_mean = dataset_mean.groupby([\"train_type\",\"train_class\",\"fare\"], as_index=False)[\"price\"].mean() \n",
        "check_mean.sort_values(by=\"price\") # sort the value fron lower to upper "
      ],
      "metadata": {
        "colab": {
          "base_uri": "https://localhost:8080/",
          "height": 1711
        },
        "id": "Jpdq1SXSxxoK",
        "outputId": "bba3a5eb-1422-43c4-f8d4-9eea0f1ae2c9"
      },
      "execution_count": 30,
      "outputs": [
        {
          "output_type": "execute_result",
          "data": {
            "text/html": [
              "\n",
              "  <div id=\"df-acacf7b9-9ec1-4126-a205-04a4848777dd\">\n",
              "    <div class=\"colab-df-container\">\n",
              "      <div>\n",
              "<style scoped>\n",
              "    .dataframe tbody tr th:only-of-type {\n",
              "        vertical-align: middle;\n",
              "    }\n",
              "\n",
              "    .dataframe tbody tr th {\n",
              "        vertical-align: top;\n",
              "    }\n",
              "\n",
              "    .dataframe thead th {\n",
              "        text-align: right;\n",
              "    }\n",
              "</style>\n",
              "<table border=\"1\" class=\"dataframe\">\n",
              "  <thead>\n",
              "    <tr style=\"text-align: right;\">\n",
              "      <th></th>\n",
              "      <th>train_type</th>\n",
              "      <th>train_class</th>\n",
              "      <th>fare</th>\n",
              "      <th>price</th>\n",
              "    </tr>\n",
              "  </thead>\n",
              "  <tbody>\n",
              "    <tr>\n",
              "      <th>39</th>\n",
              "      <td>LD-MD</td>\n",
              "      <td>Turista con enlace</td>\n",
              "      <td>Promo</td>\n",
              "      <td>27.284375</td>\n",
              "    </tr>\n",
              "    <tr>\n",
              "      <th>46</th>\n",
              "      <td>MD-LD</td>\n",
              "      <td>Turista con enlace</td>\n",
              "      <td>Promo</td>\n",
              "      <td>28.179902</td>\n",
              "    </tr>\n",
              "    <tr>\n",
              "      <th>49</th>\n",
              "      <td>REGIONAL</td>\n",
              "      <td>Turista</td>\n",
              "      <td>Adulto ida</td>\n",
              "      <td>28.350000</td>\n",
              "    </tr>\n",
              "    <tr>\n",
              "      <th>32</th>\n",
              "      <td>INTERCITY</td>\n",
              "      <td>Turista</td>\n",
              "      <td>Promo</td>\n",
              "      <td>29.042205</td>\n",
              "    </tr>\n",
              "    <tr>\n",
              "      <th>34</th>\n",
              "      <td>INTERCITY</td>\n",
              "      <td>Turista Plus</td>\n",
              "      <td>Promo</td>\n",
              "      <td>29.435988</td>\n",
              "    </tr>\n",
              "    <tr>\n",
              "      <th>43</th>\n",
              "      <td>MD-AVE</td>\n",
              "      <td>Turista con enlace</td>\n",
              "      <td>Promo</td>\n",
              "      <td>29.440000</td>\n",
              "    </tr>\n",
              "    <tr>\n",
              "      <th>47</th>\n",
              "      <td>MD-LD</td>\n",
              "      <td>Turista con enlace</td>\n",
              "      <td>Promo +</td>\n",
              "      <td>33.695970</td>\n",
              "    </tr>\n",
              "    <tr>\n",
              "      <th>36</th>\n",
              "      <td>LD</td>\n",
              "      <td>Turista con enlace</td>\n",
              "      <td>Promo</td>\n",
              "      <td>34.104030</td>\n",
              "    </tr>\n",
              "    <tr>\n",
              "      <th>40</th>\n",
              "      <td>LD-MD</td>\n",
              "      <td>Turista con enlace</td>\n",
              "      <td>Promo +</td>\n",
              "      <td>34.350000</td>\n",
              "    </tr>\n",
              "    <tr>\n",
              "      <th>23</th>\n",
              "      <td>AVE-MD</td>\n",
              "      <td>Turista con enlace</td>\n",
              "      <td>Promo</td>\n",
              "      <td>35.390909</td>\n",
              "    </tr>\n",
              "    <tr>\n",
              "      <th>3</th>\n",
              "      <td>ALVIA</td>\n",
              "      <td>Turista</td>\n",
              "      <td>Promo</td>\n",
              "      <td>35.398448</td>\n",
              "    </tr>\n",
              "    <tr>\n",
              "      <th>20</th>\n",
              "      <td>AVE-LD</td>\n",
              "      <td>Turista con enlace</td>\n",
              "      <td>Promo</td>\n",
              "      <td>36.938238</td>\n",
              "    </tr>\n",
              "    <tr>\n",
              "      <th>44</th>\n",
              "      <td>MD-AVE</td>\n",
              "      <td>Turista con enlace</td>\n",
              "      <td>Promo +</td>\n",
              "      <td>38.719603</td>\n",
              "    </tr>\n",
              "    <tr>\n",
              "      <th>37</th>\n",
              "      <td>LD</td>\n",
              "      <td>Turista con enlace</td>\n",
              "      <td>Promo +</td>\n",
              "      <td>42.750000</td>\n",
              "    </tr>\n",
              "    <tr>\n",
              "      <th>48</th>\n",
              "      <td>R. EXPRES</td>\n",
              "      <td>Turista</td>\n",
              "      <td>Adulto ida</td>\n",
              "      <td>43.250000</td>\n",
              "    </tr>\n",
              "    <tr>\n",
              "      <th>24</th>\n",
              "      <td>AVE-MD</td>\n",
              "      <td>Turista con enlace</td>\n",
              "      <td>Promo +</td>\n",
              "      <td>43.790519</td>\n",
              "    </tr>\n",
              "    <tr>\n",
              "      <th>21</th>\n",
              "      <td>AVE-LD</td>\n",
              "      <td>Turista con enlace</td>\n",
              "      <td>Promo +</td>\n",
              "      <td>45.495596</td>\n",
              "    </tr>\n",
              "    <tr>\n",
              "      <th>5</th>\n",
              "      <td>AV City</td>\n",
              "      <td>Turista</td>\n",
              "      <td>Promo</td>\n",
              "      <td>45.671766</td>\n",
              "    </tr>\n",
              "    <tr>\n",
              "      <th>52</th>\n",
              "      <td>TRENHOTEL</td>\n",
              "      <td>Turista</td>\n",
              "      <td>Flexible</td>\n",
              "      <td>45.800000</td>\n",
              "    </tr>\n",
              "    <tr>\n",
              "      <th>1</th>\n",
              "      <td>ALVIA</td>\n",
              "      <td>Preferente</td>\n",
              "      <td>Promo</td>\n",
              "      <td>51.092789</td>\n",
              "    </tr>\n",
              "    <tr>\n",
              "      <th>38</th>\n",
              "      <td>LD-MD</td>\n",
              "      <td>Turista con enlace</td>\n",
              "      <td>Flexible</td>\n",
              "      <td>51.138083</td>\n",
              "    </tr>\n",
              "    <tr>\n",
              "      <th>35</th>\n",
              "      <td>LD</td>\n",
              "      <td>Turista con enlace</td>\n",
              "      <td>Flexible</td>\n",
              "      <td>51.178896</td>\n",
              "    </tr>\n",
              "    <tr>\n",
              "      <th>33</th>\n",
              "      <td>INTERCITY</td>\n",
              "      <td>Turista Plus</td>\n",
              "      <td>Flexible</td>\n",
              "      <td>51.500000</td>\n",
              "    </tr>\n",
              "    <tr>\n",
              "      <th>41</th>\n",
              "      <td>MD</td>\n",
              "      <td>Turista con enlace</td>\n",
              "      <td>Flexible</td>\n",
              "      <td>52.500000</td>\n",
              "    </tr>\n",
              "    <tr>\n",
              "      <th>45</th>\n",
              "      <td>MD-LD</td>\n",
              "      <td>Turista con enlace</td>\n",
              "      <td>Flexible</td>\n",
              "      <td>53.110488</td>\n",
              "    </tr>\n",
              "    <tr>\n",
              "      <th>7</th>\n",
              "      <td>AV City</td>\n",
              "      <td>Turista Plus</td>\n",
              "      <td>Promo</td>\n",
              "      <td>56.050574</td>\n",
              "    </tr>\n",
              "    <tr>\n",
              "      <th>19</th>\n",
              "      <td>AVE-LD</td>\n",
              "      <td>Turista con enlace</td>\n",
              "      <td>Flexible</td>\n",
              "      <td>57.786580</td>\n",
              "    </tr>\n",
              "    <tr>\n",
              "      <th>12</th>\n",
              "      <td>AVE</td>\n",
              "      <td>Turista</td>\n",
              "      <td>Grupos Ida</td>\n",
              "      <td>58.500000</td>\n",
              "    </tr>\n",
              "    <tr>\n",
              "      <th>42</th>\n",
              "      <td>MD-AVE</td>\n",
              "      <td>Turista con enlace</td>\n",
              "      <td>Flexible</td>\n",
              "      <td>59.191031</td>\n",
              "    </tr>\n",
              "    <tr>\n",
              "      <th>31</th>\n",
              "      <td>INTERCITY</td>\n",
              "      <td>Turista</td>\n",
              "      <td>Flexible</td>\n",
              "      <td>59.624451</td>\n",
              "    </tr>\n",
              "    <tr>\n",
              "      <th>14</th>\n",
              "      <td>AVE</td>\n",
              "      <td>Turista</td>\n",
              "      <td>Promo</td>\n",
              "      <td>60.423762</td>\n",
              "    </tr>\n",
              "    <tr>\n",
              "      <th>4</th>\n",
              "      <td>AV City</td>\n",
              "      <td>Turista</td>\n",
              "      <td>Flexible</td>\n",
              "      <td>62.200000</td>\n",
              "    </tr>\n",
              "    <tr>\n",
              "      <th>2</th>\n",
              "      <td>ALVIA</td>\n",
              "      <td>Turista</td>\n",
              "      <td>Flexible</td>\n",
              "      <td>64.858769</td>\n",
              "    </tr>\n",
              "    <tr>\n",
              "      <th>22</th>\n",
              "      <td>AVE-MD</td>\n",
              "      <td>Turista con enlace</td>\n",
              "      <td>Flexible</td>\n",
              "      <td>66.238914</td>\n",
              "    </tr>\n",
              "    <tr>\n",
              "      <th>28</th>\n",
              "      <td>AVE-TGV</td>\n",
              "      <td>Turista</td>\n",
              "      <td>Promo</td>\n",
              "      <td>72.333265</td>\n",
              "    </tr>\n",
              "    <tr>\n",
              "      <th>51</th>\n",
              "      <td>TRENHOTEL</td>\n",
              "      <td>Cama Turista</td>\n",
              "      <td>Flexible</td>\n",
              "      <td>74.200000</td>\n",
              "    </tr>\n",
              "    <tr>\n",
              "      <th>6</th>\n",
              "      <td>AV City</td>\n",
              "      <td>Turista Plus</td>\n",
              "      <td>Flexible</td>\n",
              "      <td>74.600000</td>\n",
              "    </tr>\n",
              "    <tr>\n",
              "      <th>9</th>\n",
              "      <td>AVE</td>\n",
              "      <td>Preferente</td>\n",
              "      <td>Promo</td>\n",
              "      <td>77.279718</td>\n",
              "    </tr>\n",
              "    <tr>\n",
              "      <th>18</th>\n",
              "      <td>AVE</td>\n",
              "      <td>Turista Plus</td>\n",
              "      <td>Promo</td>\n",
              "      <td>86.228797</td>\n",
              "    </tr>\n",
              "    <tr>\n",
              "      <th>0</th>\n",
              "      <td>ALVIA</td>\n",
              "      <td>Preferente</td>\n",
              "      <td>Flexible</td>\n",
              "      <td>87.968686</td>\n",
              "    </tr>\n",
              "    <tr>\n",
              "      <th>11</th>\n",
              "      <td>AVE</td>\n",
              "      <td>Turista</td>\n",
              "      <td>Flexible</td>\n",
              "      <td>88.061342</td>\n",
              "    </tr>\n",
              "    <tr>\n",
              "      <th>30</th>\n",
              "      <td>AVE-TGV</td>\n",
              "      <td>Turista Plus</td>\n",
              "      <td>Promo</td>\n",
              "      <td>90.117620</td>\n",
              "    </tr>\n",
              "    <tr>\n",
              "      <th>15</th>\n",
              "      <td>AVE</td>\n",
              "      <td>Turista</td>\n",
              "      <td>Promo +</td>\n",
              "      <td>94.868750</td>\n",
              "    </tr>\n",
              "    <tr>\n",
              "      <th>10</th>\n",
              "      <td>AVE</td>\n",
              "      <td>Preferente</td>\n",
              "      <td>Promo +</td>\n",
              "      <td>105.000000</td>\n",
              "    </tr>\n",
              "    <tr>\n",
              "      <th>26</th>\n",
              "      <td>AVE-TGV</td>\n",
              "      <td>Preferente</td>\n",
              "      <td>Promo</td>\n",
              "      <td>105.232552</td>\n",
              "    </tr>\n",
              "    <tr>\n",
              "      <th>27</th>\n",
              "      <td>AVE-TGV</td>\n",
              "      <td>Turista</td>\n",
              "      <td>Flexible</td>\n",
              "      <td>107.700000</td>\n",
              "    </tr>\n",
              "    <tr>\n",
              "      <th>16</th>\n",
              "      <td>AVE</td>\n",
              "      <td>Turista Plus</td>\n",
              "      <td>Flexible</td>\n",
              "      <td>125.402532</td>\n",
              "    </tr>\n",
              "    <tr>\n",
              "      <th>29</th>\n",
              "      <td>AVE-TGV</td>\n",
              "      <td>Turista Plus</td>\n",
              "      <td>Flexible</td>\n",
              "      <td>129.300000</td>\n",
              "    </tr>\n",
              "    <tr>\n",
              "      <th>50</th>\n",
              "      <td>TRENHOTEL</td>\n",
              "      <td>Cama G. Clase</td>\n",
              "      <td>Individual-Flexible</td>\n",
              "      <td>150.600000</td>\n",
              "    </tr>\n",
              "    <tr>\n",
              "      <th>8</th>\n",
              "      <td>AVE</td>\n",
              "      <td>Preferente</td>\n",
              "      <td>Flexible</td>\n",
              "      <td>155.173881</td>\n",
              "    </tr>\n",
              "    <tr>\n",
              "      <th>13</th>\n",
              "      <td>AVE</td>\n",
              "      <td>Turista</td>\n",
              "      <td>Mesa</td>\n",
              "      <td>172.400000</td>\n",
              "    </tr>\n",
              "    <tr>\n",
              "      <th>25</th>\n",
              "      <td>AVE-TGV</td>\n",
              "      <td>Preferente</td>\n",
              "      <td>Flexible</td>\n",
              "      <td>181.211472</td>\n",
              "    </tr>\n",
              "    <tr>\n",
              "      <th>17</th>\n",
              "      <td>AVE</td>\n",
              "      <td>Turista Plus</td>\n",
              "      <td>Mesa</td>\n",
              "      <td>206.800000</td>\n",
              "    </tr>\n",
              "  </tbody>\n",
              "</table>\n",
              "</div>\n",
              "      <button class=\"colab-df-convert\" onclick=\"convertToInteractive('df-acacf7b9-9ec1-4126-a205-04a4848777dd')\"\n",
              "              title=\"Convert this dataframe to an interactive table.\"\n",
              "              style=\"display:none;\">\n",
              "        \n",
              "  <svg xmlns=\"http://www.w3.org/2000/svg\" height=\"24px\"viewBox=\"0 0 24 24\"\n",
              "       width=\"24px\">\n",
              "    <path d=\"M0 0h24v24H0V0z\" fill=\"none\"/>\n",
              "    <path d=\"M18.56 5.44l.94 2.06.94-2.06 2.06-.94-2.06-.94-.94-2.06-.94 2.06-2.06.94zm-11 1L8.5 8.5l.94-2.06 2.06-.94-2.06-.94L8.5 2.5l-.94 2.06-2.06.94zm10 10l.94 2.06.94-2.06 2.06-.94-2.06-.94-.94-2.06-.94 2.06-2.06.94z\"/><path d=\"M17.41 7.96l-1.37-1.37c-.4-.4-.92-.59-1.43-.59-.52 0-1.04.2-1.43.59L10.3 9.45l-7.72 7.72c-.78.78-.78 2.05 0 2.83L4 21.41c.39.39.9.59 1.41.59.51 0 1.02-.2 1.41-.59l7.78-7.78 2.81-2.81c.8-.78.8-2.07 0-2.86zM5.41 20L4 18.59l7.72-7.72 1.47 1.35L5.41 20z\"/>\n",
              "  </svg>\n",
              "      </button>\n",
              "      \n",
              "  <style>\n",
              "    .colab-df-container {\n",
              "      display:flex;\n",
              "      flex-wrap:wrap;\n",
              "      gap: 12px;\n",
              "    }\n",
              "\n",
              "    .colab-df-convert {\n",
              "      background-color: #E8F0FE;\n",
              "      border: none;\n",
              "      border-radius: 50%;\n",
              "      cursor: pointer;\n",
              "      display: none;\n",
              "      fill: #1967D2;\n",
              "      height: 32px;\n",
              "      padding: 0 0 0 0;\n",
              "      width: 32px;\n",
              "    }\n",
              "\n",
              "    .colab-df-convert:hover {\n",
              "      background-color: #E2EBFA;\n",
              "      box-shadow: 0px 1px 2px rgba(60, 64, 67, 0.3), 0px 1px 3px 1px rgba(60, 64, 67, 0.15);\n",
              "      fill: #174EA6;\n",
              "    }\n",
              "\n",
              "    [theme=dark] .colab-df-convert {\n",
              "      background-color: #3B4455;\n",
              "      fill: #D2E3FC;\n",
              "    }\n",
              "\n",
              "    [theme=dark] .colab-df-convert:hover {\n",
              "      background-color: #434B5C;\n",
              "      box-shadow: 0px 1px 3px 1px rgba(0, 0, 0, 0.15);\n",
              "      filter: drop-shadow(0px 1px 2px rgba(0, 0, 0, 0.3));\n",
              "      fill: #FFFFFF;\n",
              "    }\n",
              "  </style>\n",
              "\n",
              "      <script>\n",
              "        const buttonEl =\n",
              "          document.querySelector('#df-acacf7b9-9ec1-4126-a205-04a4848777dd button.colab-df-convert');\n",
              "        buttonEl.style.display =\n",
              "          google.colab.kernel.accessAllowed ? 'block' : 'none';\n",
              "\n",
              "        async function convertToInteractive(key) {\n",
              "          const element = document.querySelector('#df-acacf7b9-9ec1-4126-a205-04a4848777dd');\n",
              "          const dataTable =\n",
              "            await google.colab.kernel.invokeFunction('convertToInteractive',\n",
              "                                                     [key], {});\n",
              "          if (!dataTable) return;\n",
              "\n",
              "          const docLinkHtml = 'Like what you see? Visit the ' +\n",
              "            '<a target=\"_blank\" href=https://colab.research.google.com/notebooks/data_table.ipynb>data table notebook</a>'\n",
              "            + ' to learn more about interactive tables.';\n",
              "          element.innerHTML = '';\n",
              "          dataTable['output_type'] = 'display_data';\n",
              "          await google.colab.output.renderOutput(dataTable, element);\n",
              "          const docLink = document.createElement('div');\n",
              "          docLink.innerHTML = docLinkHtml;\n",
              "          element.appendChild(docLink);\n",
              "        }\n",
              "      </script>\n",
              "    </div>\n",
              "  </div>\n",
              "  "
            ],
            "text/plain": [
              "   train_type         train_class                 fare       price\n",
              "39      LD-MD  Turista con enlace                Promo   27.284375\n",
              "46      MD-LD  Turista con enlace                Promo   28.179902\n",
              "49   REGIONAL             Turista           Adulto ida   28.350000\n",
              "32  INTERCITY             Turista                Promo   29.042205\n",
              "34  INTERCITY        Turista Plus                Promo   29.435988\n",
              "43     MD-AVE  Turista con enlace                Promo   29.440000\n",
              "47      MD-LD  Turista con enlace              Promo +   33.695970\n",
              "36         LD  Turista con enlace                Promo   34.104030\n",
              "40      LD-MD  Turista con enlace              Promo +   34.350000\n",
              "23     AVE-MD  Turista con enlace                Promo   35.390909\n",
              "3       ALVIA             Turista                Promo   35.398448\n",
              "20     AVE-LD  Turista con enlace                Promo   36.938238\n",
              "44     MD-AVE  Turista con enlace              Promo +   38.719603\n",
              "37         LD  Turista con enlace              Promo +   42.750000\n",
              "48  R. EXPRES             Turista           Adulto ida   43.250000\n",
              "24     AVE-MD  Turista con enlace              Promo +   43.790519\n",
              "21     AVE-LD  Turista con enlace              Promo +   45.495596\n",
              "5     AV City             Turista                Promo   45.671766\n",
              "52  TRENHOTEL             Turista             Flexible   45.800000\n",
              "1       ALVIA          Preferente                Promo   51.092789\n",
              "38      LD-MD  Turista con enlace             Flexible   51.138083\n",
              "35         LD  Turista con enlace             Flexible   51.178896\n",
              "33  INTERCITY        Turista Plus             Flexible   51.500000\n",
              "41         MD  Turista con enlace             Flexible   52.500000\n",
              "45      MD-LD  Turista con enlace             Flexible   53.110488\n",
              "7     AV City        Turista Plus                Promo   56.050574\n",
              "19     AVE-LD  Turista con enlace             Flexible   57.786580\n",
              "12        AVE             Turista           Grupos Ida   58.500000\n",
              "42     MD-AVE  Turista con enlace             Flexible   59.191031\n",
              "31  INTERCITY             Turista             Flexible   59.624451\n",
              "14        AVE             Turista                Promo   60.423762\n",
              "4     AV City             Turista             Flexible   62.200000\n",
              "2       ALVIA             Turista             Flexible   64.858769\n",
              "22     AVE-MD  Turista con enlace             Flexible   66.238914\n",
              "28    AVE-TGV             Turista                Promo   72.333265\n",
              "51  TRENHOTEL        Cama Turista             Flexible   74.200000\n",
              "6     AV City        Turista Plus             Flexible   74.600000\n",
              "9         AVE          Preferente                Promo   77.279718\n",
              "18        AVE        Turista Plus                Promo   86.228797\n",
              "0       ALVIA          Preferente             Flexible   87.968686\n",
              "11        AVE             Turista             Flexible   88.061342\n",
              "30    AVE-TGV        Turista Plus                Promo   90.117620\n",
              "15        AVE             Turista              Promo +   94.868750\n",
              "10        AVE          Preferente              Promo +  105.000000\n",
              "26    AVE-TGV          Preferente                Promo  105.232552\n",
              "27    AVE-TGV             Turista             Flexible  107.700000\n",
              "16        AVE        Turista Plus             Flexible  125.402532\n",
              "29    AVE-TGV        Turista Plus             Flexible  129.300000\n",
              "50  TRENHOTEL       Cama G. Clase  Individual-Flexible  150.600000\n",
              "8         AVE          Preferente             Flexible  155.173881\n",
              "13        AVE             Turista                 Mesa  172.400000\n",
              "25    AVE-TGV          Preferente             Flexible  181.211472\n",
              "17        AVE        Turista Plus                 Mesa  206.800000"
            ]
          },
          "metadata": {},
          "execution_count": 30
        }
      ]
    },
    {
      "cell_type": "markdown",
      "source": [
        "จากตารางด้านบนเราได้ทำการเรียงลำดับราคาจากน้อยไปหามากแล้ว จะเห็นว่า รถไฟประเภท LD-MD, Turista, con enlace, Promo มีค่าเฉลี่ยน้อยที่สุด\t27.284375  และรถไฟประเภท AVE\tTurista Plus\tMesa\tมีค่าเฉลี่ยมากสุด 206.800000 "
      ],
      "metadata": {
        "id": "6ycUIygb0csP"
      }
    },
    {
      "cell_type": "markdown",
      "source": [
        "##Create predictive model"
      ],
      "metadata": {
        "id": "aXZT--EnoRui"
      }
    },
    {
      "cell_type": "markdown",
      "source": [
        "ในส่วนนี้เราจะมาจัดเตรียมตารางให้พร้อมสำหรับการทำ predictive model "
      ],
      "metadata": {
        "id": "yi_Ks2h41IfG"
      }
    },
    {
      "cell_type": "code",
      "source": [
        "dataset.head()"
      ],
      "metadata": {
        "id": "qbU4o7nYx9-q",
        "colab": {
          "base_uri": "https://localhost:8080/",
          "height": 206
        },
        "outputId": "b1eeab6f-4b09-4b6b-8824-6fa1444d9ada"
      },
      "execution_count": 31,
      "outputs": [
        {
          "output_type": "execute_result",
          "data": {
            "text/html": [
              "\n",
              "  <div id=\"df-b16d2d9f-da75-4596-9240-670fb1b1b4b8\">\n",
              "    <div class=\"colab-df-container\">\n",
              "      <div>\n",
              "<style scoped>\n",
              "    .dataframe tbody tr th:only-of-type {\n",
              "        vertical-align: middle;\n",
              "    }\n",
              "\n",
              "    .dataframe tbody tr th {\n",
              "        vertical-align: top;\n",
              "    }\n",
              "\n",
              "    .dataframe thead th {\n",
              "        text-align: right;\n",
              "    }\n",
              "</style>\n",
              "<table border=\"1\" class=\"dataframe\">\n",
              "  <thead>\n",
              "    <tr style=\"text-align: right;\">\n",
              "      <th></th>\n",
              "      <th>insert_date</th>\n",
              "      <th>origin</th>\n",
              "      <th>destination</th>\n",
              "      <th>start_date</th>\n",
              "      <th>end_date</th>\n",
              "      <th>train_type</th>\n",
              "      <th>price</th>\n",
              "      <th>train_class</th>\n",
              "      <th>fare</th>\n",
              "      <th>total_time(Min)</th>\n",
              "    </tr>\n",
              "  </thead>\n",
              "  <tbody>\n",
              "    <tr>\n",
              "      <th>0</th>\n",
              "      <td>2019-04-19 05:31:43</td>\n",
              "      <td>MADRID</td>\n",
              "      <td>SEVILLA</td>\n",
              "      <td>2019-05-29 06:20:00</td>\n",
              "      <td>2019-05-29 09:16:00</td>\n",
              "      <td>AV City</td>\n",
              "      <td>38.55</td>\n",
              "      <td>Turista</td>\n",
              "      <td>Promo</td>\n",
              "      <td>176</td>\n",
              "    </tr>\n",
              "    <tr>\n",
              "      <th>1</th>\n",
              "      <td>2019-04-19 05:31:43</td>\n",
              "      <td>MADRID</td>\n",
              "      <td>SEVILLA</td>\n",
              "      <td>2019-05-29 07:00:00</td>\n",
              "      <td>2019-05-29 09:32:00</td>\n",
              "      <td>AVE</td>\n",
              "      <td>53.40</td>\n",
              "      <td>Turista</td>\n",
              "      <td>Promo</td>\n",
              "      <td>152</td>\n",
              "    </tr>\n",
              "    <tr>\n",
              "      <th>2</th>\n",
              "      <td>2019-04-19 05:31:43</td>\n",
              "      <td>MADRID</td>\n",
              "      <td>SEVILLA</td>\n",
              "      <td>2019-05-29 07:30:00</td>\n",
              "      <td>2019-05-29 09:51:00</td>\n",
              "      <td>AVE</td>\n",
              "      <td>47.30</td>\n",
              "      <td>Turista</td>\n",
              "      <td>Promo</td>\n",
              "      <td>141</td>\n",
              "    </tr>\n",
              "    <tr>\n",
              "      <th>3</th>\n",
              "      <td>2019-04-19 05:31:43</td>\n",
              "      <td>MADRID</td>\n",
              "      <td>SEVILLA</td>\n",
              "      <td>2019-05-29 08:00:00</td>\n",
              "      <td>2019-05-29 10:32:00</td>\n",
              "      <td>AVE</td>\n",
              "      <td>69.40</td>\n",
              "      <td>Preferente</td>\n",
              "      <td>Promo</td>\n",
              "      <td>152</td>\n",
              "    </tr>\n",
              "    <tr>\n",
              "      <th>5</th>\n",
              "      <td>2019-04-19 05:31:43</td>\n",
              "      <td>MADRID</td>\n",
              "      <td>SEVILLA</td>\n",
              "      <td>2019-05-29 09:00:00</td>\n",
              "      <td>2019-05-29 11:38:00</td>\n",
              "      <td>AVE</td>\n",
              "      <td>60.30</td>\n",
              "      <td>Turista</td>\n",
              "      <td>Promo</td>\n",
              "      <td>158</td>\n",
              "    </tr>\n",
              "  </tbody>\n",
              "</table>\n",
              "</div>\n",
              "      <button class=\"colab-df-convert\" onclick=\"convertToInteractive('df-b16d2d9f-da75-4596-9240-670fb1b1b4b8')\"\n",
              "              title=\"Convert this dataframe to an interactive table.\"\n",
              "              style=\"display:none;\">\n",
              "        \n",
              "  <svg xmlns=\"http://www.w3.org/2000/svg\" height=\"24px\"viewBox=\"0 0 24 24\"\n",
              "       width=\"24px\">\n",
              "    <path d=\"M0 0h24v24H0V0z\" fill=\"none\"/>\n",
              "    <path d=\"M18.56 5.44l.94 2.06.94-2.06 2.06-.94-2.06-.94-.94-2.06-.94 2.06-2.06.94zm-11 1L8.5 8.5l.94-2.06 2.06-.94-2.06-.94L8.5 2.5l-.94 2.06-2.06.94zm10 10l.94 2.06.94-2.06 2.06-.94-2.06-.94-.94-2.06-.94 2.06-2.06.94z\"/><path d=\"M17.41 7.96l-1.37-1.37c-.4-.4-.92-.59-1.43-.59-.52 0-1.04.2-1.43.59L10.3 9.45l-7.72 7.72c-.78.78-.78 2.05 0 2.83L4 21.41c.39.39.9.59 1.41.59.51 0 1.02-.2 1.41-.59l7.78-7.78 2.81-2.81c.8-.78.8-2.07 0-2.86zM5.41 20L4 18.59l7.72-7.72 1.47 1.35L5.41 20z\"/>\n",
              "  </svg>\n",
              "      </button>\n",
              "      \n",
              "  <style>\n",
              "    .colab-df-container {\n",
              "      display:flex;\n",
              "      flex-wrap:wrap;\n",
              "      gap: 12px;\n",
              "    }\n",
              "\n",
              "    .colab-df-convert {\n",
              "      background-color: #E8F0FE;\n",
              "      border: none;\n",
              "      border-radius: 50%;\n",
              "      cursor: pointer;\n",
              "      display: none;\n",
              "      fill: #1967D2;\n",
              "      height: 32px;\n",
              "      padding: 0 0 0 0;\n",
              "      width: 32px;\n",
              "    }\n",
              "\n",
              "    .colab-df-convert:hover {\n",
              "      background-color: #E2EBFA;\n",
              "      box-shadow: 0px 1px 2px rgba(60, 64, 67, 0.3), 0px 1px 3px 1px rgba(60, 64, 67, 0.15);\n",
              "      fill: #174EA6;\n",
              "    }\n",
              "\n",
              "    [theme=dark] .colab-df-convert {\n",
              "      background-color: #3B4455;\n",
              "      fill: #D2E3FC;\n",
              "    }\n",
              "\n",
              "    [theme=dark] .colab-df-convert:hover {\n",
              "      background-color: #434B5C;\n",
              "      box-shadow: 0px 1px 3px 1px rgba(0, 0, 0, 0.15);\n",
              "      filter: drop-shadow(0px 1px 2px rgba(0, 0, 0, 0.3));\n",
              "      fill: #FFFFFF;\n",
              "    }\n",
              "  </style>\n",
              "\n",
              "      <script>\n",
              "        const buttonEl =\n",
              "          document.querySelector('#df-b16d2d9f-da75-4596-9240-670fb1b1b4b8 button.colab-df-convert');\n",
              "        buttonEl.style.display =\n",
              "          google.colab.kernel.accessAllowed ? 'block' : 'none';\n",
              "\n",
              "        async function convertToInteractive(key) {\n",
              "          const element = document.querySelector('#df-b16d2d9f-da75-4596-9240-670fb1b1b4b8');\n",
              "          const dataTable =\n",
              "            await google.colab.kernel.invokeFunction('convertToInteractive',\n",
              "                                                     [key], {});\n",
              "          if (!dataTable) return;\n",
              "\n",
              "          const docLinkHtml = 'Like what you see? Visit the ' +\n",
              "            '<a target=\"_blank\" href=https://colab.research.google.com/notebooks/data_table.ipynb>data table notebook</a>'\n",
              "            + ' to learn more about interactive tables.';\n",
              "          element.innerHTML = '';\n",
              "          dataTable['output_type'] = 'display_data';\n",
              "          await google.colab.output.renderOutput(dataTable, element);\n",
              "          const docLink = document.createElement('div');\n",
              "          docLink.innerHTML = docLinkHtml;\n",
              "          element.appendChild(docLink);\n",
              "        }\n",
              "      </script>\n",
              "    </div>\n",
              "  </div>\n",
              "  "
            ],
            "text/plain": [
              "          insert_date  origin destination  ... train_class   fare total_time(Min)\n",
              "0 2019-04-19 05:31:43  MADRID     SEVILLA  ...     Turista  Promo             176\n",
              "1 2019-04-19 05:31:43  MADRID     SEVILLA  ...     Turista  Promo             152\n",
              "2 2019-04-19 05:31:43  MADRID     SEVILLA  ...     Turista  Promo             141\n",
              "3 2019-04-19 05:31:43  MADRID     SEVILLA  ...  Preferente  Promo             152\n",
              "5 2019-04-19 05:31:43  MADRID     SEVILLA  ...     Turista  Promo             158\n",
              "\n",
              "[5 rows x 10 columns]"
            ]
          },
          "metadata": {},
          "execution_count": 31
        }
      ]
    },
    {
      "cell_type": "markdown",
      "source": [
        "จากรูปตารางด้านบนเราจะทำการตัด insert date ไปเพราะเป็นข้อมูลที่เป็นค่าคงที่ เป็นเพียงเวลาทำการใส่ข้อมูลลงในระบบ จึงไม่ได้นำมาคิด และตัดในส่วนของ start_date และ end_date ออก เพราะเราได้ทำการแปลงเป็นระยะเวลาแล้ว ในคอลัมน์ total_time"
      ],
      "metadata": {
        "id": "PHreCgOg1RQx"
      }
    },
    {
      "cell_type": "code",
      "source": [
        "df = dataset.drop(columns=[\"insert_date\",\"start_date\",\"end_date\"]) # drop = remove the data which not use."
      ],
      "metadata": {
        "id": "haFrXXUImDNk"
      },
      "execution_count": 32,
      "outputs": []
    },
    {
      "cell_type": "markdown",
      "source": [
        "หลังจากทำการ drop หรือ ลบคอลัมน์ที่ไม่ใช้ออกแล้วจะได้ตารางดังรูปด้านล่าง"
      ],
      "metadata": {
        "id": "LgoWvk2k11qC"
      }
    },
    {
      "cell_type": "code",
      "source": [
        "df.head()"
      ],
      "metadata": {
        "colab": {
          "base_uri": "https://localhost:8080/",
          "height": 206
        },
        "id": "-0WiTf8WpWeF",
        "outputId": "3c293161-737c-48e9-fe0d-909a1f03cefd"
      },
      "execution_count": 33,
      "outputs": [
        {
          "output_type": "execute_result",
          "data": {
            "text/html": [
              "\n",
              "  <div id=\"df-de82a894-2449-4949-af4e-8eb7128b68fc\">\n",
              "    <div class=\"colab-df-container\">\n",
              "      <div>\n",
              "<style scoped>\n",
              "    .dataframe tbody tr th:only-of-type {\n",
              "        vertical-align: middle;\n",
              "    }\n",
              "\n",
              "    .dataframe tbody tr th {\n",
              "        vertical-align: top;\n",
              "    }\n",
              "\n",
              "    .dataframe thead th {\n",
              "        text-align: right;\n",
              "    }\n",
              "</style>\n",
              "<table border=\"1\" class=\"dataframe\">\n",
              "  <thead>\n",
              "    <tr style=\"text-align: right;\">\n",
              "      <th></th>\n",
              "      <th>origin</th>\n",
              "      <th>destination</th>\n",
              "      <th>train_type</th>\n",
              "      <th>price</th>\n",
              "      <th>train_class</th>\n",
              "      <th>fare</th>\n",
              "      <th>total_time(Min)</th>\n",
              "    </tr>\n",
              "  </thead>\n",
              "  <tbody>\n",
              "    <tr>\n",
              "      <th>0</th>\n",
              "      <td>MADRID</td>\n",
              "      <td>SEVILLA</td>\n",
              "      <td>AV City</td>\n",
              "      <td>38.55</td>\n",
              "      <td>Turista</td>\n",
              "      <td>Promo</td>\n",
              "      <td>176</td>\n",
              "    </tr>\n",
              "    <tr>\n",
              "      <th>1</th>\n",
              "      <td>MADRID</td>\n",
              "      <td>SEVILLA</td>\n",
              "      <td>AVE</td>\n",
              "      <td>53.40</td>\n",
              "      <td>Turista</td>\n",
              "      <td>Promo</td>\n",
              "      <td>152</td>\n",
              "    </tr>\n",
              "    <tr>\n",
              "      <th>2</th>\n",
              "      <td>MADRID</td>\n",
              "      <td>SEVILLA</td>\n",
              "      <td>AVE</td>\n",
              "      <td>47.30</td>\n",
              "      <td>Turista</td>\n",
              "      <td>Promo</td>\n",
              "      <td>141</td>\n",
              "    </tr>\n",
              "    <tr>\n",
              "      <th>3</th>\n",
              "      <td>MADRID</td>\n",
              "      <td>SEVILLA</td>\n",
              "      <td>AVE</td>\n",
              "      <td>69.40</td>\n",
              "      <td>Preferente</td>\n",
              "      <td>Promo</td>\n",
              "      <td>152</td>\n",
              "    </tr>\n",
              "    <tr>\n",
              "      <th>5</th>\n",
              "      <td>MADRID</td>\n",
              "      <td>SEVILLA</td>\n",
              "      <td>AVE</td>\n",
              "      <td>60.30</td>\n",
              "      <td>Turista</td>\n",
              "      <td>Promo</td>\n",
              "      <td>158</td>\n",
              "    </tr>\n",
              "  </tbody>\n",
              "</table>\n",
              "</div>\n",
              "      <button class=\"colab-df-convert\" onclick=\"convertToInteractive('df-de82a894-2449-4949-af4e-8eb7128b68fc')\"\n",
              "              title=\"Convert this dataframe to an interactive table.\"\n",
              "              style=\"display:none;\">\n",
              "        \n",
              "  <svg xmlns=\"http://www.w3.org/2000/svg\" height=\"24px\"viewBox=\"0 0 24 24\"\n",
              "       width=\"24px\">\n",
              "    <path d=\"M0 0h24v24H0V0z\" fill=\"none\"/>\n",
              "    <path d=\"M18.56 5.44l.94 2.06.94-2.06 2.06-.94-2.06-.94-.94-2.06-.94 2.06-2.06.94zm-11 1L8.5 8.5l.94-2.06 2.06-.94-2.06-.94L8.5 2.5l-.94 2.06-2.06.94zm10 10l.94 2.06.94-2.06 2.06-.94-2.06-.94-.94-2.06-.94 2.06-2.06.94z\"/><path d=\"M17.41 7.96l-1.37-1.37c-.4-.4-.92-.59-1.43-.59-.52 0-1.04.2-1.43.59L10.3 9.45l-7.72 7.72c-.78.78-.78 2.05 0 2.83L4 21.41c.39.39.9.59 1.41.59.51 0 1.02-.2 1.41-.59l7.78-7.78 2.81-2.81c.8-.78.8-2.07 0-2.86zM5.41 20L4 18.59l7.72-7.72 1.47 1.35L5.41 20z\"/>\n",
              "  </svg>\n",
              "      </button>\n",
              "      \n",
              "  <style>\n",
              "    .colab-df-container {\n",
              "      display:flex;\n",
              "      flex-wrap:wrap;\n",
              "      gap: 12px;\n",
              "    }\n",
              "\n",
              "    .colab-df-convert {\n",
              "      background-color: #E8F0FE;\n",
              "      border: none;\n",
              "      border-radius: 50%;\n",
              "      cursor: pointer;\n",
              "      display: none;\n",
              "      fill: #1967D2;\n",
              "      height: 32px;\n",
              "      padding: 0 0 0 0;\n",
              "      width: 32px;\n",
              "    }\n",
              "\n",
              "    .colab-df-convert:hover {\n",
              "      background-color: #E2EBFA;\n",
              "      box-shadow: 0px 1px 2px rgba(60, 64, 67, 0.3), 0px 1px 3px 1px rgba(60, 64, 67, 0.15);\n",
              "      fill: #174EA6;\n",
              "    }\n",
              "\n",
              "    [theme=dark] .colab-df-convert {\n",
              "      background-color: #3B4455;\n",
              "      fill: #D2E3FC;\n",
              "    }\n",
              "\n",
              "    [theme=dark] .colab-df-convert:hover {\n",
              "      background-color: #434B5C;\n",
              "      box-shadow: 0px 1px 3px 1px rgba(0, 0, 0, 0.15);\n",
              "      filter: drop-shadow(0px 1px 2px rgba(0, 0, 0, 0.3));\n",
              "      fill: #FFFFFF;\n",
              "    }\n",
              "  </style>\n",
              "\n",
              "      <script>\n",
              "        const buttonEl =\n",
              "          document.querySelector('#df-de82a894-2449-4949-af4e-8eb7128b68fc button.colab-df-convert');\n",
              "        buttonEl.style.display =\n",
              "          google.colab.kernel.accessAllowed ? 'block' : 'none';\n",
              "\n",
              "        async function convertToInteractive(key) {\n",
              "          const element = document.querySelector('#df-de82a894-2449-4949-af4e-8eb7128b68fc');\n",
              "          const dataTable =\n",
              "            await google.colab.kernel.invokeFunction('convertToInteractive',\n",
              "                                                     [key], {});\n",
              "          if (!dataTable) return;\n",
              "\n",
              "          const docLinkHtml = 'Like what you see? Visit the ' +\n",
              "            '<a target=\"_blank\" href=https://colab.research.google.com/notebooks/data_table.ipynb>data table notebook</a>'\n",
              "            + ' to learn more about interactive tables.';\n",
              "          element.innerHTML = '';\n",
              "          dataTable['output_type'] = 'display_data';\n",
              "          await google.colab.output.renderOutput(dataTable, element);\n",
              "          const docLink = document.createElement('div');\n",
              "          docLink.innerHTML = docLinkHtml;\n",
              "          element.appendChild(docLink);\n",
              "        }\n",
              "      </script>\n",
              "    </div>\n",
              "  </div>\n",
              "  "
            ],
            "text/plain": [
              "   origin destination train_type  price train_class   fare  total_time(Min)\n",
              "0  MADRID     SEVILLA    AV City  38.55     Turista  Promo              176\n",
              "1  MADRID     SEVILLA        AVE  53.40     Turista  Promo              152\n",
              "2  MADRID     SEVILLA        AVE  47.30     Turista  Promo              141\n",
              "3  MADRID     SEVILLA        AVE  69.40  Preferente  Promo              152\n",
              "5  MADRID     SEVILLA        AVE  60.30     Turista  Promo              158"
            ]
          },
          "metadata": {},
          "execution_count": 33
        }
      ]
    },
    {
      "cell_type": "markdown",
      "source": [
        "ต่อจากนั้นเราทำการย้ายคอลัมน์ y ให้ไปอยู่ในคอลัมน์สุดท้ายของตารางเพื่อให้ง่ายต่อการจัดการและทำโมเดล pridictive "
      ],
      "metadata": {
        "id": "Sy3pXJ_R1_FB"
      }
    },
    {
      "cell_type": "code",
      "source": [
        "price = df[\"price\"]\n",
        "df.drop(labels=[\"price\"], axis=1, inplace=True)\n",
        "df.insert(6,\"price\",price) #insert the new row at column 6\n",
        "df.head()"
      ],
      "metadata": {
        "colab": {
          "base_uri": "https://localhost:8080/",
          "height": 206
        },
        "id": "0spvLj4fB6PR",
        "outputId": "c6a1ffd9-0890-44b1-8085-385d4e43e155"
      },
      "execution_count": 34,
      "outputs": [
        {
          "output_type": "execute_result",
          "data": {
            "text/html": [
              "\n",
              "  <div id=\"df-b0fb125f-d8ba-4fdf-8a89-4fe794a1f929\">\n",
              "    <div class=\"colab-df-container\">\n",
              "      <div>\n",
              "<style scoped>\n",
              "    .dataframe tbody tr th:only-of-type {\n",
              "        vertical-align: middle;\n",
              "    }\n",
              "\n",
              "    .dataframe tbody tr th {\n",
              "        vertical-align: top;\n",
              "    }\n",
              "\n",
              "    .dataframe thead th {\n",
              "        text-align: right;\n",
              "    }\n",
              "</style>\n",
              "<table border=\"1\" class=\"dataframe\">\n",
              "  <thead>\n",
              "    <tr style=\"text-align: right;\">\n",
              "      <th></th>\n",
              "      <th>origin</th>\n",
              "      <th>destination</th>\n",
              "      <th>train_type</th>\n",
              "      <th>train_class</th>\n",
              "      <th>fare</th>\n",
              "      <th>total_time(Min)</th>\n",
              "      <th>price</th>\n",
              "    </tr>\n",
              "  </thead>\n",
              "  <tbody>\n",
              "    <tr>\n",
              "      <th>0</th>\n",
              "      <td>MADRID</td>\n",
              "      <td>SEVILLA</td>\n",
              "      <td>AV City</td>\n",
              "      <td>Turista</td>\n",
              "      <td>Promo</td>\n",
              "      <td>176</td>\n",
              "      <td>38.55</td>\n",
              "    </tr>\n",
              "    <tr>\n",
              "      <th>1</th>\n",
              "      <td>MADRID</td>\n",
              "      <td>SEVILLA</td>\n",
              "      <td>AVE</td>\n",
              "      <td>Turista</td>\n",
              "      <td>Promo</td>\n",
              "      <td>152</td>\n",
              "      <td>53.40</td>\n",
              "    </tr>\n",
              "    <tr>\n",
              "      <th>2</th>\n",
              "      <td>MADRID</td>\n",
              "      <td>SEVILLA</td>\n",
              "      <td>AVE</td>\n",
              "      <td>Turista</td>\n",
              "      <td>Promo</td>\n",
              "      <td>141</td>\n",
              "      <td>47.30</td>\n",
              "    </tr>\n",
              "    <tr>\n",
              "      <th>3</th>\n",
              "      <td>MADRID</td>\n",
              "      <td>SEVILLA</td>\n",
              "      <td>AVE</td>\n",
              "      <td>Preferente</td>\n",
              "      <td>Promo</td>\n",
              "      <td>152</td>\n",
              "      <td>69.40</td>\n",
              "    </tr>\n",
              "    <tr>\n",
              "      <th>5</th>\n",
              "      <td>MADRID</td>\n",
              "      <td>SEVILLA</td>\n",
              "      <td>AVE</td>\n",
              "      <td>Turista</td>\n",
              "      <td>Promo</td>\n",
              "      <td>158</td>\n",
              "      <td>60.30</td>\n",
              "    </tr>\n",
              "  </tbody>\n",
              "</table>\n",
              "</div>\n",
              "      <button class=\"colab-df-convert\" onclick=\"convertToInteractive('df-b0fb125f-d8ba-4fdf-8a89-4fe794a1f929')\"\n",
              "              title=\"Convert this dataframe to an interactive table.\"\n",
              "              style=\"display:none;\">\n",
              "        \n",
              "  <svg xmlns=\"http://www.w3.org/2000/svg\" height=\"24px\"viewBox=\"0 0 24 24\"\n",
              "       width=\"24px\">\n",
              "    <path d=\"M0 0h24v24H0V0z\" fill=\"none\"/>\n",
              "    <path d=\"M18.56 5.44l.94 2.06.94-2.06 2.06-.94-2.06-.94-.94-2.06-.94 2.06-2.06.94zm-11 1L8.5 8.5l.94-2.06 2.06-.94-2.06-.94L8.5 2.5l-.94 2.06-2.06.94zm10 10l.94 2.06.94-2.06 2.06-.94-2.06-.94-.94-2.06-.94 2.06-2.06.94z\"/><path d=\"M17.41 7.96l-1.37-1.37c-.4-.4-.92-.59-1.43-.59-.52 0-1.04.2-1.43.59L10.3 9.45l-7.72 7.72c-.78.78-.78 2.05 0 2.83L4 21.41c.39.39.9.59 1.41.59.51 0 1.02-.2 1.41-.59l7.78-7.78 2.81-2.81c.8-.78.8-2.07 0-2.86zM5.41 20L4 18.59l7.72-7.72 1.47 1.35L5.41 20z\"/>\n",
              "  </svg>\n",
              "      </button>\n",
              "      \n",
              "  <style>\n",
              "    .colab-df-container {\n",
              "      display:flex;\n",
              "      flex-wrap:wrap;\n",
              "      gap: 12px;\n",
              "    }\n",
              "\n",
              "    .colab-df-convert {\n",
              "      background-color: #E8F0FE;\n",
              "      border: none;\n",
              "      border-radius: 50%;\n",
              "      cursor: pointer;\n",
              "      display: none;\n",
              "      fill: #1967D2;\n",
              "      height: 32px;\n",
              "      padding: 0 0 0 0;\n",
              "      width: 32px;\n",
              "    }\n",
              "\n",
              "    .colab-df-convert:hover {\n",
              "      background-color: #E2EBFA;\n",
              "      box-shadow: 0px 1px 2px rgba(60, 64, 67, 0.3), 0px 1px 3px 1px rgba(60, 64, 67, 0.15);\n",
              "      fill: #174EA6;\n",
              "    }\n",
              "\n",
              "    [theme=dark] .colab-df-convert {\n",
              "      background-color: #3B4455;\n",
              "      fill: #D2E3FC;\n",
              "    }\n",
              "\n",
              "    [theme=dark] .colab-df-convert:hover {\n",
              "      background-color: #434B5C;\n",
              "      box-shadow: 0px 1px 3px 1px rgba(0, 0, 0, 0.15);\n",
              "      filter: drop-shadow(0px 1px 2px rgba(0, 0, 0, 0.3));\n",
              "      fill: #FFFFFF;\n",
              "    }\n",
              "  </style>\n",
              "\n",
              "      <script>\n",
              "        const buttonEl =\n",
              "          document.querySelector('#df-b0fb125f-d8ba-4fdf-8a89-4fe794a1f929 button.colab-df-convert');\n",
              "        buttonEl.style.display =\n",
              "          google.colab.kernel.accessAllowed ? 'block' : 'none';\n",
              "\n",
              "        async function convertToInteractive(key) {\n",
              "          const element = document.querySelector('#df-b0fb125f-d8ba-4fdf-8a89-4fe794a1f929');\n",
              "          const dataTable =\n",
              "            await google.colab.kernel.invokeFunction('convertToInteractive',\n",
              "                                                     [key], {});\n",
              "          if (!dataTable) return;\n",
              "\n",
              "          const docLinkHtml = 'Like what you see? Visit the ' +\n",
              "            '<a target=\"_blank\" href=https://colab.research.google.com/notebooks/data_table.ipynb>data table notebook</a>'\n",
              "            + ' to learn more about interactive tables.';\n",
              "          element.innerHTML = '';\n",
              "          dataTable['output_type'] = 'display_data';\n",
              "          await google.colab.output.renderOutput(dataTable, element);\n",
              "          const docLink = document.createElement('div');\n",
              "          docLink.innerHTML = docLinkHtml;\n",
              "          element.appendChild(docLink);\n",
              "        }\n",
              "      </script>\n",
              "    </div>\n",
              "  </div>\n",
              "  "
            ],
            "text/plain": [
              "   origin destination train_type train_class   fare  total_time(Min)  price\n",
              "0  MADRID     SEVILLA    AV City     Turista  Promo              176  38.55\n",
              "1  MADRID     SEVILLA        AVE     Turista  Promo              152  53.40\n",
              "2  MADRID     SEVILLA        AVE     Turista  Promo              141  47.30\n",
              "3  MADRID     SEVILLA        AVE  Preferente  Promo              152  69.40\n",
              "5  MADRID     SEVILLA        AVE     Turista  Promo              158  60.30"
            ]
          },
          "metadata": {},
          "execution_count": 34
        }
      ]
    },
    {
      "cell_type": "markdown",
      "source": [
        "จากนั้นทำการแยก X ก็คือ Feature หรือ independent variable ออกจาก y ก็คือ price ที่ต้องการใช้ prediction ซึ่งเรียกว่า dependent variable"
      ],
      "metadata": {
        "id": "-JjVDglO2XbN"
      }
    },
    {
      "cell_type": "code",
      "source": [
        "X = df.iloc[:, :-1].values #X mean feature column that include origin, destination, train_type, train_class, fare and total_time(Min) \n",
        "y = df.iloc[:, -1].values #y mean target or label that need to predict "
      ],
      "metadata": {
        "id": "Kv8frCWSme2A"
      },
      "execution_count": 35,
      "outputs": []
    },
    {
      "cell_type": "markdown",
      "source": [
        "ทำการแสดงค่า X และ ค่า y"
      ],
      "metadata": {
        "id": "nJgvktVM3UQI"
      }
    },
    {
      "cell_type": "code",
      "source": [
        "print(X)"
      ],
      "metadata": {
        "colab": {
          "base_uri": "https://localhost:8080/",
          "height": 0
        },
        "id": "JYWT4R9Ys2wb",
        "outputId": "a2fb44e2-adf6-42fb-d985-7e9af9bcb887"
      },
      "execution_count": 36,
      "outputs": [
        {
          "output_type": "stream",
          "name": "stdout",
          "text": [
            "[['MADRID' 'SEVILLA' 'AV City' 'Turista' 'Promo' 176]\n",
            " ['MADRID' 'SEVILLA' 'AVE' 'Turista' 'Promo' 152]\n",
            " ['MADRID' 'SEVILLA' 'AVE' 'Turista' 'Promo' 141]\n",
            " ...\n",
            " ['MADRID' 'SEVILLA' 'AVE' 'Turista Plus' 'Promo' 141]\n",
            " ['MADRID' 'SEVILLA' 'AVE' 'Turista' 'Flexible' 160]\n",
            " ['MADRID' 'SEVILLA' 'AV City' 'Turista' 'Promo' 165]]\n"
          ]
        }
      ]
    },
    {
      "cell_type": "code",
      "source": [
        "print(y)"
      ],
      "metadata": {
        "colab": {
          "base_uri": "https://localhost:8080/",
          "height": 0
        },
        "id": "iTrPTar1s4_K",
        "outputId": "07d687ff-df71-48d1-ce4b-9a0671931095"
      },
      "execution_count": 37,
      "outputs": [
        {
          "output_type": "stream",
          "name": "stdout",
          "text": [
            "[38.55 53.4  47.3  ... 72.3  76.3  49.15]\n"
          ]
        }
      ]
    },
    {
      "cell_type": "markdown",
      "source": [
        "### One-Hot Encoding"
      ],
      "metadata": {
        "id": "I_O8GoB73cXs"
      }
    },
    {
      "cell_type": "markdown",
      "source": [
        "เนื่องจากชุดข้อมูลที่ให้มามีหลายคอลัมน์ที่เป็นแบบ category ซึ่งการที่เราจะทำการ predict ได้นั้นเราจะต้องเปลี่ยนทุกคอลัมน์ให้เป็นในรูปแบบ numeric ก่อน โดยการทำ one hot encoding จะทำการสร้างคอลัมน์ใหม่ขึ้นมา เพื่อแทนลักษณะเฉพาะของแต่ละตัวในคอลัมน์นั้นๆและจะให้ค่านั้นเป็น 1 ของคอลัมน์นั้นๆเมื่อมีการตรวจสอบเจอ"
      ],
      "metadata": {
        "id": "XFxkUxzD3qlS"
      }
    },
    {
      "cell_type": "markdown",
      "source": [
        "เราจะใช้ library ของ scikit-learn ที่ชื่อว่า ColumnTransformer ในการแปลงและปรับเปลี่ยนค่าในชุดข้อมูลและใช้ OneHotEncoder ในการทำ One-hot encoding"
      ],
      "metadata": {
        "id": "rVpVZAl54vC6"
      }
    },
    {
      "cell_type": "code",
      "source": [
        "from sklearn.compose import ColumnTransformer\n",
        "from sklearn.preprocessing import OneHotEncoder\n",
        "ct = ColumnTransformer(transformers = [('encoder', OneHotEncoder(),[0,1,2,3,4])], remainder = 'passthrough') #transformer is specify column which want to encoder, remainder, remainder = \"passthrough\" mean you want to keep another column that not applie for encoding\n",
        "X = ct.fit_transform(X).toarray() #fit_transform method will return output the new matrix "
      ],
      "metadata": {
        "id": "xyVqPFX0s62A"
      },
      "execution_count": 38,
      "outputs": []
    },
    {
      "cell_type": "markdown",
      "source": [
        "หลังจากเราได้ทำ one-hot เสร็จแล้วเราจะแสดงผลลัพธ์ของ X "
      ],
      "metadata": {
        "id": "X0Paw7PxIgfC"
      }
    },
    {
      "cell_type": "code",
      "source": [
        "print(X)"
      ],
      "metadata": {
        "colab": {
          "base_uri": "https://localhost:8080/",
          "height": 0
        },
        "id": "kTjaUCCSC5Hw",
        "outputId": "f55bf22c-2875-450c-8f6f-0cd316c1188c"
      },
      "execution_count": 39,
      "outputs": [
        {
          "output_type": "stream",
          "name": "stdout",
          "text": [
            "[[  0.   1.   0. ...   1.   0. 176.]\n",
            " [  0.   1.   0. ...   1.   0. 152.]\n",
            " [  0.   1.   0. ...   1.   0. 141.]\n",
            " ...\n",
            " [  0.   1.   0. ...   1.   0. 141.]\n",
            " [  0.   1.   0. ...   0.   0. 160.]\n",
            " [  0.   1.   0. ...   1.   0. 165.]]\n"
          ]
        }
      ]
    },
    {
      "cell_type": "markdown",
      "source": [
        "X ที่ออกมาจะอยู่ในรูป binary object หรือ 0 และ 1 ตามตารางด้านบน"
      ],
      "metadata": {
        "id": "HlY0VfwaI-qk"
      }
    },
    {
      "cell_type": "code",
      "source": [
        "X.shape"
      ],
      "metadata": {
        "colab": {
          "base_uri": "https://localhost:8080/",
          "height": 0
        },
        "id": "TXb6D07Nxi6Z",
        "outputId": "d010d8af-a84a-44c9-9810-01900c01109b"
      },
      "execution_count": 40,
      "outputs": [
        {
          "output_type": "execute_result",
          "data": {
            "text/plain": [
              "(2266504, 39)"
            ]
          },
          "metadata": {},
          "execution_count": 40
        }
      ]
    },
    {
      "cell_type": "markdown",
      "source": [
        "จะเห็นได้ว่าหลังจากที่เราทำ One-Hot encoding จะทำมีคอลัมน์เพิ่มจากการวร้าง dummy variables จนทำให้คอลัมน์ตอนนี้มีทั้งหมด 39 คอลัมน์"
      ],
      "metadata": {
        "id": "Pcq3e9fkJj08"
      }
    },
    {
      "cell_type": "markdown",
      "source": [
        "##Splitting the dataset into the Training set and Test set"
      ],
      "metadata": {
        "id": "4XRh08-CJ3kK"
      }
    },
    {
      "cell_type": "markdown",
      "source": [
        "ในขั้นต่อไปเราจะทำการแบ่ง train set และ test set ของข้อมูล ซึ่งเราจะแบ่งให้ test set มีจำนวน 20% ของข้อมูล และ train set 80% โดยที่เราจะใช้ random_state = 1"
      ],
      "metadata": {
        "id": "v0VRZXuMKBG2"
      }
    },
    {
      "cell_type": "code",
      "source": [
        "from sklearn.model_selection import  train_test_split\n",
        "X_train, X_test, y_train, y_test = train_test_split(X, y, test_size = 0.2,random_state = 1 )"
      ],
      "metadata": {
        "id": "nq4HhqKj607o"
      },
      "execution_count": 41,
      "outputs": []
    },
    {
      "cell_type": "markdown",
      "source": [
        "หลังจากเราแบ่ง train set และ test set แล้ว จะทำให้มีตัวแปรที่เกิดขึ้นใหม่ X_train, X_test, y_train, y_test"
      ],
      "metadata": {
        "id": "ZDCUfDkzKZZO"
      }
    },
    {
      "cell_type": "markdown",
      "source": [
        "###Feature scaling "
      ],
      "metadata": {
        "id": "OhgVLrlfunmi"
      }
    },
    {
      "cell_type": "markdown",
      "source": [
        "ในขั้นตอนต่อมาเราจะทำการ scaling ข้อมูลให้อยู๋ในช่วงเดียวกันเพื่อไม่ให้การทำ predict นั้นมีค่าน้ำหนักในการ predict ไม่แตกต่างกันเกินไปในทุกคอลัม ยกตัวอย่างเช่นคอลัม total time นั้นมีค่าอยู่ในหลักร้อย เมื่อเทียบกับคอลัมน์อื่นๆที่ถูกแปลงเป็น one-hot จะอยู๋ในหลักหน่วย ซึ่งเมื่อเรา predict อาจจะทำให้การทำนายไปให้น้ำหนักกับ total time มากเกินไป "
      ],
      "metadata": {
        "id": "el__lk7tKYO4"
      }
    },
    {
      "cell_type": "code",
      "source": [
        "from sklearn.preprocessing import StandardScaler\n",
        "sc = StandardScaler() #standardscalar = (value-mean)/stdev\n",
        "X_train[:, :] = sc.fit_transform(X_train[:, :]) # select all column of X_train\n",
        "X_test[:, :] = sc.transform(X_test[:, :]) # select all column of X_test"
      ],
      "metadata": {
        "id": "fcT6lXv3ufmG"
      },
      "execution_count": 42,
      "outputs": []
    },
    {
      "cell_type": "markdown",
      "source": [
        "เมื่อเราทำการแปลงคอลัมน์ทุกคอลัมน์ของ X_train และ X_test แล้วจะมีหน้าตาตามตารางด้านลาง"
      ],
      "metadata": {
        "id": "_Z8GKmyNQfjV"
      }
    },
    {
      "cell_type": "code",
      "source": [
        "X_train"
      ],
      "metadata": {
        "colab": {
          "base_uri": "https://localhost:8080/",
          "height": 0
        },
        "id": "6YEtH990xRWl",
        "outputId": "4c4c8863-6a21-4903-d2c4-5489b18f8780"
      },
      "execution_count": 43,
      "outputs": [
        {
          "output_type": "execute_result",
          "data": {
            "text/plain": [
              "array([[-0.4605798 ,  0.96412164, -0.18011413, ...,  0.67136825,\n",
              "        -0.17575128, -0.37253288],\n",
              "       [-0.4605798 ,  0.96412164, -0.18011413, ...,  0.67136825,\n",
              "        -0.17575128, -0.80937388],\n",
              "       [-0.4605798 ,  0.96412164, -0.18011413, ...,  0.67136825,\n",
              "        -0.17575128, -0.88048753],\n",
              "       ...,\n",
              "       [-0.4605798 ,  0.96412164, -0.18011413, ...,  0.67136825,\n",
              "        -0.17575128, -0.39285107],\n",
              "       [ 2.17117642, -1.03721352, -0.18011413, ...,  0.67136825,\n",
              "        -0.17575128,  0.01351265],\n",
              "       [-0.4605798 , -1.03721352, -0.18011413, ...,  0.67136825,\n",
              "        -0.17575128,  0.68401278]])"
            ]
          },
          "metadata": {},
          "execution_count": 43
        }
      ]
    },
    {
      "cell_type": "markdown",
      "source": [
        "เสร็จสิ้นขั้นตอนการเตรียม data สำหรับ train และ test โมเดล"
      ],
      "metadata": {
        "id": "mmtlwtpjQvzD"
      }
    },
    {
      "cell_type": "markdown",
      "source": [
        "## Training Regression model on the dataset"
      ],
      "metadata": {
        "id": "mIym4Nf45rK6"
      }
    },
    {
      "cell_type": "markdown",
      "source": [
        "ในส่วนนี้จะเป็นการ train และ test ผลลัพธ์ของแต่ละโมเดลออกมา"
      ],
      "metadata": {
        "id": "VPRm70mWQvB8"
      }
    },
    {
      "cell_type": "markdown",
      "source": [
        "###Multiple Linear Regrssion"
      ],
      "metadata": {
        "id": "q_9GDTwByCLp"
      }
    },
    {
      "cell_type": "markdown",
      "source": [
        "โมเดลแรกที่เราจะใช้คือ Multiple Linear Regreesion เป็นรูปแบบที่ใช้ในการทำนายค่าที่เป็น continuous value โดยที่มีข้อกำหนดว่ามีหลายตัวแปรที่อยู่ใน features  โดยจะประยุกต์จากสมการเส้นตรง"
      ],
      "metadata": {
        "id": "heBdjtQqRACD"
      }
    },
    {
      "cell_type": "code",
      "source": [
        "from sklearn.linear_model import LinearRegression\n",
        "regressor = LinearRegression()\n",
        "regressor.fit(X_train,y_train)"
      ],
      "metadata": {
        "colab": {
          "base_uri": "https://localhost:8080/",
          "height": 0
        },
        "id": "Bev8D-xUu6rd",
        "outputId": "b7f837c3-1390-44b3-a331-2e8ca4b76c57"
      },
      "execution_count": 44,
      "outputs": [
        {
          "output_type": "execute_result",
          "data": {
            "text/plain": [
              "LinearRegression()"
            ]
          },
          "metadata": {},
          "execution_count": 44
        }
      ]
    },
    {
      "cell_type": "markdown",
      "source": [
        "หลังจากที่เราได้ทำการ fit method ของ X_train และ y_train แล้ว ผลที่ได้เราจะมาทำให้อยู่ในรูปของ y_pred และ ทำการจัดปรับเพื่อนำไปเปรียบเทียบกับ y_test นั้นก็คือค่าคำตอบจริง"
      ],
      "metadata": {
        "id": "zQbYHZQ8Rsfo"
      }
    },
    {
      "cell_type": "code",
      "source": [
        "y_pred = regressor.predict(X_test) \n",
        "np.set_printoptions(precision=2)\n",
        "print(np.concatenate((y_pred.reshape(len(y_pred),1), y_test.reshape(len(y_test),1)),axis = 1)) # reshape data from horizontal axis to vertical axis and combine to array by use concatenate "
      ],
      "metadata": {
        "colab": {
          "base_uri": "https://localhost:8080/",
          "height": 0
        },
        "id": "CQJ15Sb8yEqD",
        "outputId": "06c909b8-ea3b-4847-ce57-9972fb28d1a4"
      },
      "execution_count": 45,
      "outputs": [
        {
          "output_type": "stream",
          "name": "stdout",
          "text": [
            "[[ 41.31  39.45]\n",
            " [ 79.69  88.95]\n",
            " [ 80.03  76.3 ]\n",
            " ...\n",
            " [ 41.51  27.8 ]\n",
            " [ 49.38  60.3 ]\n",
            " [108.36 107.7 ]]\n"
          ]
        }
      ]
    },
    {
      "cell_type": "markdown",
      "source": [
        "จากตารางด้านบนจะเห็นบรรทัดแรก ค่า y_pred ที่เราทำนายได้ 41.31 และค่า y_test คือคำตอบจริงได้ 39.45 ซึ่งมีค่าที่ใกล้เคียงกันอยู่พอสมควร แต่ก็จะมีบางช่วงที่แตกต่างกันมากอย่างบรรทัดที่สามจากสุดท้าย ค่า y_pred ที่เราทำนายได้ 41.51 และค่า y_test คือคำตอบจริงได้ 27.8 แต่โดยส่วนใหญ่แล้วค่าใกล้เคียงกัน"
      ],
      "metadata": {
        "id": "6RUghLJoSlH3"
      }
    },
    {
      "cell_type": "markdown",
      "source": [
        "ลำดับถัดมาเราจะมาหา R-square และ RMSE เพื่อใช้ในการบอกประสิทธิภาพของโมเดลนี้"
      ],
      "metadata": {
        "id": "HAdEBy6ATVdz"
      }
    },
    {
      "cell_type": "code",
      "source": [
        "from sklearn.metrics import r2_score, mean_squared_error\n",
        "print(\"R-square :\",r2_score(y_test, y_pred))\n",
        "print(\"RMSE :\", mean_squared_error(y_test, y_pred, squared = False))"
      ],
      "metadata": {
        "colab": {
          "base_uri": "https://localhost:8080/",
          "height": 0
        },
        "id": "oKTrV598yLAK",
        "outputId": "c3a83747-339c-40e3-df20-0d4d009fc4d4"
      },
      "execution_count": 46,
      "outputs": [
        {
          "output_type": "stream",
          "name": "stdout",
          "text": [
            "R-square : 0.8265300559821316\n",
            "RMSE : 10.760795513270336\n"
          ]
        }
      ]
    },
    {
      "cell_type": "markdown",
      "source": [
        "จากผลลัพธ์ที่ได้\n",
        "R-square เท่ากับ 0.82653 หรือ 82.653% และ Root mean square error(RMSE) เท่ากับ 10.76 ซึ่งถือว่าน่าพอใจในระดับหนึ่ง ซึ่งเราลองไปเปรียบเทียบกับโมเดลถัดไป"
      ],
      "metadata": {
        "id": "oMi7QhNfTpNB"
      }
    },
    {
      "cell_type": "markdown",
      "source": [
        "###Decisiton tree"
      ],
      "metadata": {
        "id": "p6cOY7olv82w"
      }
    },
    {
      "cell_type": "markdown",
      "source": [
        "โมเดลต่อมาที่เราจะใช้คือ Decisition tree"
      ],
      "metadata": {
        "id": "bzdAhOqwT_E3"
      }
    },
    {
      "cell_type": "code",
      "source": [
        "from sklearn.tree import DecisionTreeRegressor\n",
        "regressor = DecisionTreeRegressor(random_state = 0)\n",
        "regressor.fit(X_train, y_train)"
      ],
      "metadata": {
        "colab": {
          "base_uri": "https://localhost:8080/",
          "height": 0
        },
        "id": "DLnuh3w0wBBM",
        "outputId": "24a8b56f-9c1b-429c-b828-c642ee13746d"
      },
      "execution_count": 48,
      "outputs": [
        {
          "output_type": "execute_result",
          "data": {
            "text/plain": [
              "DecisionTreeRegressor(random_state=0)"
            ]
          },
          "metadata": {},
          "execution_count": 48
        }
      ]
    },
    {
      "cell_type": "code",
      "source": [
        "y_pred = regressor.predict(X_test)\n",
        "np.set_printoptions(precision=2)\n",
        "print(np.concatenate((y_pred.reshape(len(y_pred),1), y_test.reshape(len(y_test),1)),1)) # reshape data from horizontal axis to vertical axis and combine to array by use concatenate "
      ],
      "metadata": {
        "colab": {
          "base_uri": "https://localhost:8080/",
          "height": 0
        },
        "id": "wsVBf7nEwSjt",
        "outputId": "60817ad3-5085-4915-bf3a-a496bc067df3"
      },
      "execution_count": 50,
      "outputs": [
        {
          "output_type": "stream",
          "name": "stdout",
          "text": [
            "[[ 41.12  39.45]\n",
            " [ 86.45  88.95]\n",
            " [ 76.3   76.3 ]\n",
            " ...\n",
            " [ 41.35  27.8 ]\n",
            " [ 54.22  60.3 ]\n",
            " [107.7  107.7 ]]\n"
          ]
        }
      ]
    },
    {
      "cell_type": "markdown",
      "source": [
        "จากตารางด้านบนจะเห็นบรรทัดแรก ค่า y_pred ที่เราทำนายได้ 41.12 และค่า y_test คือคำตอบจริงได้ 39.45 ซึ่งมีค่าที่ได้ดูจะใกล้เคียงกว่า multiple regression  ซึ่งโดยส่วนใหญ่แล้วค่าใกล้เคียงกัน"
      ],
      "metadata": {
        "id": "106NDyizUQ9I"
      }
    },
    {
      "cell_type": "code",
      "source": [
        "from sklearn.metrics import r2_score, mean_squared_error\n",
        "print(\"R-square :\",r2_score(y_test, y_pred))\n",
        "print(\"RMSE :\", mean_squared_error(y_test, y_pred, squared = False))"
      ],
      "metadata": {
        "colab": {
          "base_uri": "https://localhost:8080/",
          "height": 0
        },
        "id": "BOeb_SCMwWso",
        "outputId": "9ecc0204-ab8c-43c4-d819-d5a24dfb0b7b"
      },
      "execution_count": 51,
      "outputs": [
        {
          "output_type": "stream",
          "name": "stdout",
          "text": [
            "R-square : 0.8828531937911731\n",
            "RMSE : 8.842956443265795\n"
          ]
        }
      ]
    },
    {
      "cell_type": "markdown",
      "source": [
        "ผลลัพธ์ของ Decision trees ที่ได้ R-square เท่ากับ 0.8828531 หรือ 88.2853% และ Root mean square error(RMSE) เท่ากับ 8.84 จากผลลัพธ์มีความแม่นยำมากกว่า multiple regression "
      ],
      "metadata": {
        "id": "QPj2v2VNV2CG"
      }
    },
    {
      "cell_type": "markdown",
      "source": [
        "###Random Forest"
      ],
      "metadata": {
        "id": "D-eQBcQeyeHO"
      }
    },
    {
      "cell_type": "markdown",
      "source": [
        "ในส่วนนี้จะใช้ random forest ในการทำนาย โดยเราจะกำหนด จำนวนของต้นไม้ที่ 10 (n_estimators = 10)"
      ],
      "metadata": {
        "id": "LEFBkKPkWXe1"
      }
    },
    {
      "cell_type": "code",
      "source": [
        "from sklearn.ensemble import RandomForestRegressor\n",
        "regressor = RandomForestRegressor(n_estimators = 10, random_state = 0)\n",
        "regressor.fit(X_train, y_train)"
      ],
      "metadata": {
        "colab": {
          "base_uri": "https://localhost:8080/",
          "height": 0
        },
        "id": "g-1ExAK9uOpn",
        "outputId": "335778f4-e51d-4038-ae7a-0b20fbdba9a4"
      },
      "execution_count": 52,
      "outputs": [
        {
          "output_type": "execute_result",
          "data": {
            "text/plain": [
              "RandomForestRegressor(n_estimators=10, random_state=0)"
            ]
          },
          "metadata": {},
          "execution_count": 52
        }
      ]
    },
    {
      "cell_type": "code",
      "source": [
        "y_pred = regressor.predict(X_test)\n",
        "np.set_printoptions(precision=2)\n",
        "print(np.concatenate((y_pred.reshape(len(y_pred),1), y_test.reshape(len(y_test),1)),1)) # reshape data from horizontal axis to vertical axis and combine to array by use concatenate "
      ],
      "metadata": {
        "colab": {
          "base_uri": "https://localhost:8080/",
          "height": 0
        },
        "id": "_Ml8tclOuSFu",
        "outputId": "611fd202-24cc-4572-a742-0c660c49e686"
      },
      "execution_count": 53,
      "outputs": [
        {
          "output_type": "stream",
          "name": "stdout",
          "text": [
            "[[ 41.15  39.45]\n",
            " [ 86.45  88.95]\n",
            " [ 76.3   76.3 ]\n",
            " ...\n",
            " [ 41.32  27.8 ]\n",
            " [ 54.22  60.3 ]\n",
            " [107.7  107.7 ]]\n"
          ]
        }
      ]
    },
    {
      "cell_type": "markdown",
      "source": [
        "จากตารางด้านบนจะเห็นบรรทัดแรก ค่า y_pred ที่เราทำนายได้ 41.15 และค่า y_test คือคำตอบจริงได้ 39.45 ซึ่งมีค่าที่ได้ดูจะใกล้เคียงกัน และส่วนค่าส่วนใหญ่ก็ดูใกล้เคียงกัน\n"
      ],
      "metadata": {
        "id": "NFPv_bgPXOxG"
      }
    },
    {
      "cell_type": "code",
      "source": [
        "from sklearn.metrics import r2_score, mean_squared_error\n",
        "print(\"R-square :\",r2_score(y_test, y_pred))\n",
        "print(\"RMSE :\", mean_squared_error(y_test, y_pred, squared = False))"
      ],
      "metadata": {
        "colab": {
          "base_uri": "https://localhost:8080/",
          "height": 0
        },
        "id": "EucYnrEFuUYq",
        "outputId": "dfd7438c-488e-47bc-d062-5f03e1925ff0"
      },
      "execution_count": 54,
      "outputs": [
        {
          "output_type": "stream",
          "name": "stdout",
          "text": [
            "R-square : 0.8828473959817771\n",
            "RMSE : 8.843175267590894\n"
          ]
        }
      ]
    },
    {
      "cell_type": "markdown",
      "source": [
        "ผลลัพธ์ของ random forest ที่ n_esitmators เท่ากับ 10 ได้ R-square เท่ากับ 0.882847 หรือ 88.2847% และ Root mean square error(RMSE) เท่ากับ 8.84 จากผลลัพธ์มีความแม่นยำมากกว่า multiple regression แต่น้อยกว่า decision trees\n"
      ],
      "metadata": {
        "id": "wXXU2B2FXzya"
      }
    },
    {
      "cell_type": "markdown",
      "source": [
        "จากช่วงต้นเราใช้ random forest ในการทำนาย โดยเราจะกำหนด จำนวนของต้นไม้ที่ 10 ในส่วนถัดมาเราจะลองเพิ่มจำนวนต้นไม้จาก 10 เป็น 1000 "
      ],
      "metadata": {
        "id": "wyGBfN0IXgWZ"
      }
    },
    {
      "cell_type": "code",
      "source": [
        "from sklearn.ensemble import RandomForestRegressor\n",
        "regressor = RandomForestRegressor(n_estimators = 1000, random_state = 0)\n",
        "regressor.fit(X_train, y_train)"
      ],
      "metadata": {
        "colab": {
          "base_uri": "https://localhost:8080/"
        },
        "id": "elH22q2lyYYU",
        "outputId": "24e2da7e-eaac-4d68-ab10-bc006aad4efb"
      },
      "execution_count": null,
      "outputs": [
        {
          "output_type": "execute_result",
          "data": {
            "text/plain": [
              "RandomForestRegressor(n_estimators=1000, random_state=0)"
            ]
          },
          "metadata": {},
          "execution_count": 119
        }
      ]
    },
    {
      "cell_type": "code",
      "source": [
        "y_pred = regressor.predict(X_test)\n",
        "np.set_printoptions(precision=2)\n",
        "print(np.concatenate((y_pred.reshape(len(y_pred),1), y_test.reshape(len(y_test),1)),1)) # reshape data from horizontal axis to vertical axis and combine to array by use concatenate "
      ],
      "metadata": {
        "colab": {
          "base_uri": "https://localhost:8080/"
        },
        "id": "uulFNZKQyo7W",
        "outputId": "1b1fb915-d357-4699-a0c5-1ab392273e1d"
      },
      "execution_count": null,
      "outputs": [
        {
          "output_type": "stream",
          "name": "stdout",
          "text": [
            "[[ 41.13  39.45]\n",
            " [ 86.45  88.95]\n",
            " [ 76.3   76.3 ]\n",
            " ...\n",
            " [ 41.35  27.8 ]\n",
            " [ 54.22  60.3 ]\n",
            " [107.7  107.7 ]]\n"
          ]
        }
      ]
    },
    {
      "cell_type": "markdown",
      "source": [
        "จากตารางด้านบนจะเห็นบรรทัดแรก ค่า y_pred ที่เราทำนายได้ 41.13 และค่า y_test คือคำตอบจริงได้ 39.45 ซึ่งมีค่าที่ได้ดูจะใกล้เคียงกัน และส่วนค่าส่วนใหญ่ก็ดูใกล้เคียงกัน"
      ],
      "metadata": {
        "id": "79cphOUgYt_l"
      }
    },
    {
      "cell_type": "code",
      "source": [
        "from sklearn.metrics import r2_score, mean_squared_error\n",
        "print(\"R-square :\",r2_score(y_test, y_pred))\n",
        "print(\"RMSE :\", mean_squared_error(y_test, y_pred, squared = False))"
      ],
      "metadata": {
        "colab": {
          "base_uri": "https://localhost:8080/"
        },
        "id": "gGkD6US0y9eV",
        "outputId": "0d7ded98-a091-4e23-80a8-658e700a5f46"
      },
      "execution_count": null,
      "outputs": [
        {
          "output_type": "stream",
          "name": "stdout",
          "text": [
            "R-square : 0.8828529192605623\n",
            "RMSE : 8.842966804883368\n"
          ]
        }
      ]
    },
    {
      "cell_type": "markdown",
      "source": [
        "ผลลัพธ์ของ random forest ที่ n_esitmators เท่ากับ 100 ได้ R-square เท่ากับ 0.882852 หรือ 88.2852% และ Root mean square error(RMSE) เท่ากับ 8.8429 จากผลลัพธ์มีความแม่นยำมากกว่า multiple regression และrandom forest แบบที่กำหนดค่า n_estimators = 10  แต่น้อยกว่า decision trees ทำให้เห็นว่าการปรับ n_estimators มากขึ้นจะทำโมเดลนั้นมี error และ R-square ที่ดีขึ้น"
      ],
      "metadata": {
        "id": "RYyxAIZoZEv3"
      }
    },
    {
      "cell_type": "markdown",
      "source": [
        "### ANN artificial_neural_network"
      ],
      "metadata": {
        "id": "UqNaXbAqxOUZ"
      }
    },
    {
      "cell_type": "markdown",
      "source": [
        "ต่อมาเราจะมาลองใช้ neural network ในการทำนาย"
      ],
      "metadata": {
        "id": "kCVn5ds7ZvvT"
      }
    },
    {
      "cell_type": "markdown",
      "source": [
        "เราจะใช้ library tensorflow "
      ],
      "metadata": {
        "id": "0MdHcRB8Z2pD"
      }
    },
    {
      "cell_type": "code",
      "source": [
        "import tensorflow as tf"
      ],
      "metadata": {
        "id": "xdaBF4i1y6jE"
      },
      "execution_count": null,
      "outputs": []
    },
    {
      "cell_type": "markdown",
      "source": [
        "เราจะต้อง innitialze เพื่อสร้าง sequence ของ layer โดยใช้ model.Sequentail()"
      ],
      "metadata": {
        "id": "MIg_YZF3aEPn"
      }
    },
    {
      "cell_type": "code",
      "source": [
        "ann = tf.keras.models.Sequential()"
      ],
      "metadata": {
        "id": "tnRLcIkWzQ1T"
      },
      "execution_count": null,
      "outputs": []
    },
    {
      "cell_type": "markdown",
      "source": [
        "การทำงานของ neural network จะเปรียบเสมือนเครือข่าย มีสามส่วนหลักคือ input layer ค่าที่ใ่สเข้าไป และ Hidden layer คือส่วนของการคำนวณ และ output layer คือผลลัพธ์หรือค่าที่ทำการทำนาย ในที่นี้เราจะสร้าง 2 layers แล้วในแต่ละ layer เราจะกำหนดให้มี 40 neural โดยเราจะเลือกใช้ activate function แบบ rectifier ที่เหมาะสำหรับโมเดลประเภท regression "
      ],
      "metadata": {
        "id": "9X4yJriYaVz1"
      }
    },
    {
      "cell_type": "markdown",
      "source": [
        "สร้าง hiddle layer ที่ 1"
      ],
      "metadata": {
        "id": "NoXECEnRbNrO"
      }
    },
    {
      "cell_type": "code",
      "source": [
        "ann.add(tf.keras.layers.Dense(units=40, activation='relu'))"
      ],
      "metadata": {
        "id": "1XoEhAlFyBLs"
      },
      "execution_count": null,
      "outputs": []
    },
    {
      "cell_type": "markdown",
      "source": [
        "สร้าง hiddle layer ที่ 2"
      ],
      "metadata": {
        "id": "JuBu_s8ebR7Q"
      }
    },
    {
      "cell_type": "code",
      "source": [
        "ann.add(tf.keras.layers.Dense(units=40, activation='relu')) "
      ],
      "metadata": {
        "id": "Z5GUKoGkyQcD"
      },
      "execution_count": null,
      "outputs": []
    },
    {
      "cell_type": "markdown",
      "source": [
        "สร้าง output layer"
      ],
      "metadata": {
        "id": "8bbu-AP4bUdf"
      }
    },
    {
      "cell_type": "code",
      "source": [
        "ann.add(tf.keras.layers.Dense(units=1))"
      ],
      "metadata": {
        "id": "QYBxwUT2yqfk"
      },
      "execution_count": null,
      "outputs": []
    },
    {
      "cell_type": "markdown",
      "source": [
        "หลังจากที่เราสร้างเสร็จเราจะ complie ด้วย adam optimizer ซึ่งเป็นการทำงานในรูปแบบ Stochastic Gradient Descent  และ เลือก loss ให้ขึ้นอยู่กับ RMSE หรือ Root Mean Square Error"
      ],
      "metadata": {
        "id": "3dCI931QbhL9"
      }
    },
    {
      "cell_type": "code",
      "source": [
        "ann.compile(optimizer = \"adam\", loss = 'mean_squared_error') #adam = Stochastic Gradient Descent"
      ],
      "metadata": {
        "id": "u_HoOe3l0CeE"
      },
      "execution_count": null,
      "outputs": []
    },
    {
      "cell_type": "markdown",
      "source": [
        "จากนั้นเราจะทำการ fit method ด้วยการกำหนด batch size ที่ 32 นั้นหมายความว่าแต่ละรอบการทำงานจะทำงาน 32 แถวแล้วไปเรื่อยๆ และตั้ง epochs เท่ากับ 100 นั้นก็คือให้มีการวนครบหมดเป็นจำนวน 100 รอบ"
      ],
      "metadata": {
        "id": "sOpre40icZdg"
      }
    },
    {
      "cell_type": "code",
      "source": [
        "ann.fit(X_train,y_train, batch_size = 32, epochs = 100)"
      ],
      "metadata": {
        "colab": {
          "base_uri": "https://localhost:8080/"
        },
        "id": "himuYmWs0PIo",
        "outputId": "fbf528d0-fbfc-4d3a-b69c-07e48b1a44b5"
      },
      "execution_count": null,
      "outputs": [
        {
          "output_type": "stream",
          "name": "stdout",
          "text": [
            "Epoch 1/100\n",
            "56663/56663 [==============================] - 99s 2ms/step - loss: 102.5497\n",
            "Epoch 2/100\n",
            "56663/56663 [==============================] - 98s 2ms/step - loss: 87.8476\n",
            "Epoch 3/100\n",
            "56663/56663 [==============================] - 98s 2ms/step - loss: 86.0300\n",
            "Epoch 4/100\n",
            "56663/56663 [==============================] - 97s 2ms/step - loss: 85.3707\n",
            "Epoch 5/100\n",
            "56663/56663 [==============================] - 101s 2ms/step - loss: 84.8981\n",
            "Epoch 6/100\n",
            "56663/56663 [==============================] - 100s 2ms/step - loss: 84.4523\n",
            "Epoch 7/100\n",
            "56663/56663 [==============================] - 99s 2ms/step - loss: 84.0038\n",
            "Epoch 8/100\n",
            "56663/56663 [==============================] - 100s 2ms/step - loss: 83.8311\n",
            "Epoch 9/100\n",
            "56663/56663 [==============================] - 98s 2ms/step - loss: 83.5412\n",
            "Epoch 10/100\n",
            "56663/56663 [==============================] - 97s 2ms/step - loss: 83.3613\n",
            "Epoch 11/100\n",
            "56663/56663 [==============================] - 98s 2ms/step - loss: 83.5040\n",
            "Epoch 12/100\n",
            "56663/56663 [==============================] - 100s 2ms/step - loss: 83.1910\n",
            "Epoch 13/100\n",
            "56663/56663 [==============================] - 100s 2ms/step - loss: 83.1401\n",
            "Epoch 14/100\n",
            "56663/56663 [==============================] - 113s 2ms/step - loss: 83.4657\n",
            "Epoch 15/100\n",
            "56663/56663 [==============================] - 102s 2ms/step - loss: 83.8455\n",
            "Epoch 16/100\n",
            "56663/56663 [==============================] - 99s 2ms/step - loss: 83.9781\n",
            "Epoch 17/100\n",
            "56663/56663 [==============================] - 99s 2ms/step - loss: 83.9134\n",
            "Epoch 18/100\n",
            "56663/56663 [==============================] - 100s 2ms/step - loss: 84.0423\n",
            "Epoch 19/100\n",
            "56663/56663 [==============================] - 99s 2ms/step - loss: 83.6379\n",
            "Epoch 20/100\n",
            "56663/56663 [==============================] - 101s 2ms/step - loss: 83.4500\n",
            "Epoch 21/100\n",
            "56663/56663 [==============================] - 99s 2ms/step - loss: 83.5583\n",
            "Epoch 22/100\n",
            "56663/56663 [==============================] - 98s 2ms/step - loss: 82.9120\n",
            "Epoch 23/100\n",
            "56663/56663 [==============================] - 98s 2ms/step - loss: 82.1747\n",
            "Epoch 24/100\n",
            "56663/56663 [==============================] - 100s 2ms/step - loss: 81.8331\n",
            "Epoch 25/100\n",
            "56663/56663 [==============================] - 99s 2ms/step - loss: 81.4709\n",
            "Epoch 26/100\n",
            "56663/56663 [==============================] - 99s 2ms/step - loss: 81.2479\n",
            "Epoch 27/100\n",
            "56663/56663 [==============================] - 99s 2ms/step - loss: 81.1025\n",
            "Epoch 28/100\n",
            "56663/56663 [==============================] - 97s 2ms/step - loss: 80.9915\n",
            "Epoch 29/100\n",
            "56663/56663 [==============================] - 100s 2ms/step - loss: 81.0687\n",
            "Epoch 30/100\n",
            "56663/56663 [==============================] - 98s 2ms/step - loss: 80.8913\n",
            "Epoch 31/100\n",
            "56663/56663 [==============================] - 99s 2ms/step - loss: 80.8277\n",
            "Epoch 32/100\n",
            "56663/56663 [==============================] - 99s 2ms/step - loss: 81.7114\n",
            "Epoch 33/100\n",
            "56663/56663 [==============================] - 100s 2ms/step - loss: 82.5386\n",
            "Epoch 34/100\n",
            "56663/56663 [==============================] - 100s 2ms/step - loss: 82.3863\n",
            "Epoch 35/100\n",
            "56663/56663 [==============================] - 98s 2ms/step - loss: 82.4762\n",
            "Epoch 36/100\n",
            "56663/56663 [==============================] - 99s 2ms/step - loss: 82.3471\n",
            "Epoch 37/100\n",
            "56663/56663 [==============================] - 99s 2ms/step - loss: 82.2730\n",
            "Epoch 38/100\n",
            "56663/56663 [==============================] - 100s 2ms/step - loss: 82.2996\n",
            "Epoch 39/100\n",
            "56663/56663 [==============================] - 102s 2ms/step - loss: 82.2178\n",
            "Epoch 40/100\n",
            "56663/56663 [==============================] - 102s 2ms/step - loss: 82.3989\n",
            "Epoch 41/100\n",
            "56663/56663 [==============================] - 101s 2ms/step - loss: 82.1609\n",
            "Epoch 42/100\n",
            "56663/56663 [==============================] - 102s 2ms/step - loss: 81.9961\n",
            "Epoch 43/100\n",
            "56663/56663 [==============================] - 103s 2ms/step - loss: 81.9948\n",
            "Epoch 44/100\n",
            "56663/56663 [==============================] - 102s 2ms/step - loss: 81.9800\n",
            "Epoch 45/100\n",
            "56663/56663 [==============================] - 104s 2ms/step - loss: 81.6842\n",
            "Epoch 46/100\n",
            "56663/56663 [==============================] - 102s 2ms/step - loss: 81.5448\n",
            "Epoch 47/100\n",
            "56663/56663 [==============================] - 102s 2ms/step - loss: 81.6378\n",
            "Epoch 48/100\n",
            "56663/56663 [==============================] - 104s 2ms/step - loss: 81.4275\n",
            "Epoch 49/100\n",
            "56663/56663 [==============================] - 103s 2ms/step - loss: 81.3483\n",
            "Epoch 50/100\n",
            "56663/56663 [==============================] - 102s 2ms/step - loss: 81.1875\n",
            "Epoch 51/100\n",
            "56663/56663 [==============================] - 103s 2ms/step - loss: 81.1178\n",
            "Epoch 52/100\n",
            "56663/56663 [==============================] - 103s 2ms/step - loss: 81.0550\n",
            "Epoch 53/100\n",
            "56663/56663 [==============================] - 104s 2ms/step - loss: 80.9782\n",
            "Epoch 54/100\n",
            "56663/56663 [==============================] - 104s 2ms/step - loss: 81.0432\n",
            "Epoch 55/100\n",
            "56663/56663 [==============================] - 108s 2ms/step - loss: 81.2283\n",
            "Epoch 56/100\n",
            "56663/56663 [==============================] - 111s 2ms/step - loss: 80.9182\n",
            "Epoch 57/100\n",
            "56663/56663 [==============================] - 107s 2ms/step - loss: 80.8736\n",
            "Epoch 58/100\n",
            "56663/56663 [==============================] - 106s 2ms/step - loss: 80.9535\n",
            "Epoch 59/100\n",
            "56663/56663 [==============================] - 111s 2ms/step - loss: 80.7631\n",
            "Epoch 60/100\n",
            "56663/56663 [==============================] - 108s 2ms/step - loss: 80.7463\n",
            "Epoch 61/100\n",
            "56663/56663 [==============================] - 110s 2ms/step - loss: 81.7538\n",
            "Epoch 62/100\n",
            "56663/56663 [==============================] - 116s 2ms/step - loss: 81.8416\n",
            "Epoch 63/100\n",
            "56663/56663 [==============================] - 110s 2ms/step - loss: 81.8320\n",
            "Epoch 64/100\n",
            "56663/56663 [==============================] - 114s 2ms/step - loss: 82.1735\n",
            "Epoch 65/100\n",
            "56663/56663 [==============================] - 112s 2ms/step - loss: 82.0308\n",
            "Epoch 66/100\n",
            "56663/56663 [==============================] - 115s 2ms/step - loss: 81.9744\n",
            "Epoch 67/100\n",
            "56663/56663 [==============================] - 115s 2ms/step - loss: 82.0512\n",
            "Epoch 68/100\n",
            "56663/56663 [==============================] - 113s 2ms/step - loss: 82.5573\n",
            "Epoch 69/100\n",
            "56663/56663 [==============================] - 106s 2ms/step - loss: 81.9521\n",
            "Epoch 70/100\n",
            "56663/56663 [==============================] - 109s 2ms/step - loss: 82.3965\n",
            "Epoch 71/100\n",
            "56663/56663 [==============================] - 107s 2ms/step - loss: 83.0693\n",
            "Epoch 72/100\n",
            "56663/56663 [==============================] - 110s 2ms/step - loss: 84.4555\n",
            "Epoch 73/100\n",
            "56663/56663 [==============================] - 109s 2ms/step - loss: 83.2118\n",
            "Epoch 74/100\n",
            "56663/56663 [==============================] - 107s 2ms/step - loss: 82.6674\n",
            "Epoch 75/100\n",
            "56663/56663 [==============================] - 108s 2ms/step - loss: 82.9471\n",
            "Epoch 76/100\n",
            "56663/56663 [==============================] - 111s 2ms/step - loss: 83.2953\n",
            "Epoch 77/100\n",
            "56663/56663 [==============================] - 107s 2ms/step - loss: 82.5027\n",
            "Epoch 78/100\n",
            "56663/56663 [==============================] - 109s 2ms/step - loss: 82.1849\n",
            "Epoch 79/100\n",
            "56663/56663 [==============================] - 107s 2ms/step - loss: 83.2245\n",
            "Epoch 80/100\n",
            "56663/56663 [==============================] - 104s 2ms/step - loss: 82.2304\n",
            "Epoch 81/100\n",
            "56663/56663 [==============================] - 102s 2ms/step - loss: 81.8090\n",
            "Epoch 82/100\n",
            "56663/56663 [==============================] - 104s 2ms/step - loss: 82.0791\n",
            "Epoch 83/100\n",
            "56663/56663 [==============================] - 105s 2ms/step - loss: 81.7414\n",
            "Epoch 84/100\n",
            "56663/56663 [==============================] - 103s 2ms/step - loss: 81.7158\n",
            "Epoch 85/100\n",
            "56663/56663 [==============================] - 105s 2ms/step - loss: 82.6173\n",
            "Epoch 86/100\n",
            "56663/56663 [==============================] - 103s 2ms/step - loss: 82.0706\n",
            "Epoch 87/100\n",
            "56663/56663 [==============================] - 103s 2ms/step - loss: 81.6447\n",
            "Epoch 88/100\n",
            "56663/56663 [==============================] - 104s 2ms/step - loss: 81.6696\n",
            "Epoch 89/100\n",
            "56663/56663 [==============================] - 103s 2ms/step - loss: 82.2129\n",
            "Epoch 90/100\n",
            "56663/56663 [==============================] - 104s 2ms/step - loss: 81.6105\n",
            "Epoch 91/100\n",
            "56663/56663 [==============================] - 105s 2ms/step - loss: 81.8947\n",
            "Epoch 92/100\n",
            "56663/56663 [==============================] - 108s 2ms/step - loss: 82.1069\n",
            "Epoch 93/100\n",
            "56663/56663 [==============================] - 105s 2ms/step - loss: 82.0770\n",
            "Epoch 94/100\n",
            "56663/56663 [==============================] - 102s 2ms/step - loss: 81.9215\n",
            "Epoch 95/100\n",
            "56663/56663 [==============================] - 104s 2ms/step - loss: 81.8456\n",
            "Epoch 96/100\n",
            "56663/56663 [==============================] - 102s 2ms/step - loss: 82.8184\n",
            "Epoch 97/100\n",
            "56663/56663 [==============================] - 100s 2ms/step - loss: 81.7639\n",
            "Epoch 98/100\n",
            "56663/56663 [==============================] - 103s 2ms/step - loss: 81.7009\n",
            "Epoch 99/100\n",
            "56663/56663 [==============================] - 103s 2ms/step - loss: 81.6618\n",
            "Epoch 100/100\n",
            "56663/56663 [==============================] - 103s 2ms/step - loss: 81.6345\n"
          ]
        },
        {
          "output_type": "execute_result",
          "data": {
            "text/plain": [
              "<keras.callbacks.History at 0x7f12d6dfe490>"
            ]
          },
          "metadata": {},
          "execution_count": 128
        }
      ]
    },
    {
      "cell_type": "code",
      "source": [
        "y_pred = ann.predict(X_test)\n",
        "np.set_printoptions(precision=2)\n",
        "print(np.concatenate((y_pred.reshape(len(y_pred),1), y_test.reshape(len(y_test),1)),1))"
      ],
      "metadata": {
        "colab": {
          "base_uri": "https://localhost:8080/"
        },
        "id": "BR6X4hK-09wu",
        "outputId": "e165151d-3ce3-45d9-c3e0-dee929fe403c"
      },
      "execution_count": null,
      "outputs": [
        {
          "output_type": "stream",
          "name": "stdout",
          "text": [
            "[[ 41.89  39.45]\n",
            " [ 86.35  88.95]\n",
            " [ 76.33  76.3 ]\n",
            " ...\n",
            " [ 41.09  27.8 ]\n",
            " [ 54.62  60.3 ]\n",
            " [107.75 107.7 ]]\n"
          ]
        }
      ]
    },
    {
      "cell_type": "markdown",
      "source": [
        "จากตารางด้านบนจะเห็นบรรทัดแรก ค่า y_pred ที่เราทำนายได้ 41.89 และค่า y_test คือคำตอบจริงได้ 39.45 ซึ่งมีค่าที่ได้ดูจะใกล้เคียงกัน และส่วนค่าส่วนใหญ่ก็ดูใกล้เคียงกัน"
      ],
      "metadata": {
        "id": "KyG37FWudfjV"
      }
    },
    {
      "cell_type": "code",
      "source": [
        "from sklearn.metrics import r2_score, mean_squared_error\n",
        "print(\"R-square :\",r2_score(y_test, y_pred))\n",
        "print(\"RMSE :\", mean_squared_error(y_test, y_pred, squared = False))"
      ],
      "metadata": {
        "colab": {
          "base_uri": "https://localhost:8080/"
        },
        "id": "qfMc615M6Qm3",
        "outputId": "82db7381-e1a2-4fed-a631-c3ed90a2d824"
      },
      "execution_count": null,
      "outputs": [
        {
          "output_type": "stream",
          "name": "stdout",
          "text": [
            "R-square : 0.8770322361954708\n",
            "RMSE : 9.059993729987067\n"
          ]
        }
      ]
    },
    {
      "cell_type": "markdown",
      "source": [
        "ผลลัพธ์ของ neural network ได้ R-square เท่ากับ 0.87703 หรือ 88.703 % และ Root mean square error(RMSE) เท่ากับ 9.0599 จากผลลัพธ์มีความแม่นยำมากกว่า multiple regression และ แต่น้อยกว่า decision trees และ random forest"
      ],
      "metadata": {
        "id": "GTsugg0QdgZl"
      }
    },
    {
      "cell_type": "markdown",
      "source": [
        "##Conclusion "
      ],
      "metadata": {
        "id": "MkiwDzkG6ElS"
      }
    },
    {
      "cell_type": "markdown",
      "source": [
        "บทสรุป\n",
        "1. Multiple linear regression R-square : 0.82653 RMSE : 10.76079\n",
        "2. Decision trees R-square : 0.88285 RMSE : 8.84295\n",
        "3. Random forest(n_estimator = 10) R-square : 0.88284 RMSE : 8.84317\n",
        "4. Random forest(n_estimator = 1000) R-square : 0.88285 RMSE : 8.84296\n",
        "5. ANN artificial_neural_network R-square : 0.87703 RMSE : 9.05999\n",
        "\n",
        "จากข้อมูลการทำนายที่ได้สามารถสรุปได้ว่าการทำนายแบบ Decision trees มีความแม่นยำมากสุด และแบบ multiple linear regression มีความแม่นยำน้อยสุด แต่ทั้งนี้เราสามารถทำให้โมเดลแม่นยำขึ้นได้ โดยอาจจะเพิ่ม n_estimator ของโมเดล Random forest ให้มากขึ้น หรืออาจจะ ปรับเพิ่ม hedden layer หรือจำนวน neuron ของ โมเดล ANN ให้มากขึ้น ก็อาจจะเพิ่มประสิทธิภาพความแม่นยำของโมเดลได้ เพียงแต่ทั้งสองวิธีที่กล่าวมานี้ก็อาจจะต้องแลกกับเวลาในการ train ที่สูญเสียไปค่อนข้างมาก หรือเราอาจจะลองใช้โมเดลอื่นๆอย่าง SVM หรือ support vector machine ก็อาจจะให้ผลลัพธ์ที่แตกต่างออกไปได้\n",
        "\n"
      ],
      "metadata": {
        "id": "BMY6Ek_Id9K_"
      }
    },
    {
      "cell_type": "markdown",
      "source": [
        "ขอบคุณสำหรับ IRPC Data Scientist  challenge ครับ ข้าพเจ้าหวังว่าผู้อ่านจะพอใจไม่มากก็น้อยครับ ขอบคุณครับ"
      ],
      "metadata": {
        "id": "Oz4_DzmeiZHn"
      }
    },
    {
      "cell_type": "markdown",
      "source": [
        "##Reference"
      ],
      "metadata": {
        "id": "lh4PelNGhK9g"
      }
    },
    {
      "cell_type": "markdown",
      "source": [
        "- www.scikit-learn.org\n",
        "- www.seaborn.pydata.org\n",
        "- www.pandas.pydata.org\n",
        "- www.geeksforgeeks.org\n",
        "- www.udemy.com\n",
        "- www.datacamp.com\n",
        "- www.medium.com\n",
        "- www.scipy.org\n",
        "- www.cmdlinetips.com\n"
      ],
      "metadata": {
        "id": "qzeSCGw2hb22"
      }
    }
  ]
}